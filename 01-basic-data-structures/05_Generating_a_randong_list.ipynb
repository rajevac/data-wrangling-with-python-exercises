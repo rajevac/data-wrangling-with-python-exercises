{
 "cells": [
  {
   "cell_type": "code",
   "execution_count": 1,
   "metadata": {
    "collapsed": true
   },
   "outputs": [
    {
     "name": "stdout",
     "output_type": "stream",
     "text": [
      "[15, 19, 8, 8, 1, 17, 17, 12, 4, 15, 7, 9, 8, 11, 17, 1, 11, 12, 19, 3, 6, 7, 4, 14, 1, 6, 8, 4, 4, 1, 18, 3, 15, 10, 13, 1, 8, 5, 11, 12, 1, 0, 11, 15, 14, 5, 2, 3, 14, 5, 8, 13, 15, 3, 5, 12, 5, 4, 8, 15, 0, 17, 12, 8, 10, 16, 7, 17, 9, 9, 14, 2, 19, 8, 8, 19, 8, 13, 15, 14, 16, 18, 1, 10, 17, 13, 17, 10, 14, 19, 5, 11, 11, 9, 19, 16, 16, 12, 14, 11]\n"
     ]
    }
   ],
   "source": [
    "import random\n",
    "\n",
    "list_1 = [random.randint(0, 20) for x in range(0, 100)]\n",
    "print(list_1)\n"
   ]
  },
  {
   "cell_type": "code",
   "execution_count": 2,
   "outputs": [
    {
     "name": "stdout",
     "output_type": "stream",
     "text": [
      "100\n"
     ]
    }
   ],
   "source": [
    "print(len(list_1))\n"
   ],
   "metadata": {
    "collapsed": false,
    "pycharm": {
     "name": "#%%\n"
    }
   }
  },
  {
   "cell_type": "code",
   "execution_count": 4,
   "outputs": [
    {
     "name": "stdout",
     "output_type": "stream",
     "text": [
      "[5, 2, 3, 1, 1, 4]\n"
     ]
    }
   ],
   "source": [
    "list_2 = []\n",
    "i = 0\n",
    "while i < 6:\n",
    "    list_2.append(random.randint(1,6))\n",
    "    i += 1\n",
    "\n",
    "print(list_2)"
   ],
   "metadata": {
    "collapsed": false,
    "pycharm": {
     "name": "#%%\n"
    }
   }
  },
  {
   "cell_type": "code",
   "execution_count": 13,
   "outputs": [
    {
     "name": "stdout",
     "output_type": "stream",
     "text": [
      "[71, 62, 64]\n",
      "65.67\n"
     ]
    }
   ],
   "source": [
    "i = 0\n",
    "len_diff = []\n",
    "while i < 3:\n",
    "    list_3 = [random.randint(0, 50) for x in range(0, 100)]\n",
    "    list_4 = [x for x in list_3 if x % 3 == 0]\n",
    "    len_diff.append(len(list_3) - len(list_4))\n",
    "    i += 1\n",
    "\n",
    "print(len_diff)\n",
    "print(round(sum(len_diff)/len(len_diff), 2))"
   ],
   "metadata": {
    "collapsed": false,
    "pycharm": {
     "name": "#%%\n"
    }
   }
  },
  {
   "cell_type": "code",
   "execution_count": null,
   "outputs": [],
   "source": [],
   "metadata": {
    "collapsed": false,
    "pycharm": {
     "name": "#%%\n"
    }
   }
  }
 ],
 "metadata": {
  "kernelspec": {
   "display_name": "Python 3",
   "language": "python",
   "name": "python3"
  },
  "language_info": {
   "codemirror_mode": {
    "name": "ipython",
    "version": 2
   },
   "file_extension": ".py",
   "mimetype": "text/x-python",
   "name": "python",
   "nbconvert_exporter": "python",
   "pygments_lexer": "ipython2",
   "version": "2.7.6"
  }
 },
 "nbformat": 4,
 "nbformat_minor": 0
}