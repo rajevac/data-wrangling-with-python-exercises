{
 "cells": [
  {
   "cell_type": "code",
   "execution_count": 1,
   "id": "continuous-squad",
   "metadata": {},
   "outputs": [
    {
     "name": "stdout",
     "output_type": "stream",
     "text": [
      "34\n",
      "12\n",
      "89\n",
      "1\n"
     ]
    }
   ],
   "source": [
    "list_1 = [34, 12, 89, 1]\n",
    "\n",
    "for item in list_1:\n",
    "    print(item)"
   ]
  },
  {
   "cell_type": "code",
   "execution_count": 2,
   "id": "second-hacker",
   "metadata": {},
   "outputs": [
    {
     "name": "stdout",
     "output_type": "stream",
     "text": [
      "(34, 12, 89, 1)\n"
     ]
    }
   ],
   "source": [
    "print(f'{list_1[0], list_1[1], list_1[2], list_1[3]}')"
   ]
  },
  {
   "cell_type": "code",
   "execution_count": 3,
   "id": "labeled-funeral",
   "metadata": {},
   "outputs": [
    {
     "name": "stdout",
     "output_type": "stream",
     "text": [
      "1\n"
     ]
    }
   ],
   "source": [
    "print(list_1[-1])"
   ]
  },
  {
   "cell_type": "code",
   "execution_count": 4,
   "id": "swiss-baltimore",
   "metadata": {},
   "outputs": [
    {
     "name": "stdout",
     "output_type": "stream",
     "text": [
      "1\n"
     ]
    }
   ],
   "source": [
    "print(list_1[len(list_1) - 1])"
   ]
  },
  {
   "cell_type": "code",
   "execution_count": 5,
   "id": "subjective-release",
   "metadata": {},
   "outputs": [
    {
     "name": "stdout",
     "output_type": "stream",
     "text": [
      "89\n"
     ]
    }
   ],
   "source": [
    "print(list_1[-2])"
   ]
  },
  {
   "cell_type": "code",
   "execution_count": 6,
   "id": "vanilla-western",
   "metadata": {},
   "outputs": [
    {
     "name": "stdout",
     "output_type": "stream",
     "text": [
      "[12, 89]\n"
     ]
    }
   ],
   "source": [
    "print(list_1[1:3])"
   ]
  },
  {
   "cell_type": "code",
   "execution_count": 7,
   "id": "intensive-oklahoma",
   "metadata": {},
   "outputs": [
    {
     "name": "stdout",
     "output_type": "stream",
     "text": [
      "[34, 12, 89, 1]\n"
     ]
    }
   ],
   "source": [
    "print(list_1[:])"
   ]
  },
  {
   "cell_type": "code",
   "execution_count": 8,
   "id": "incorporated-fourth",
   "metadata": {},
   "outputs": [
    {
     "name": "stdout",
     "output_type": "stream",
     "text": [
      "[12, 89, 1]\n"
     ]
    }
   ],
   "source": [
    "print(list_1[1:])"
   ]
  },
  {
   "cell_type": "code",
   "execution_count": 9,
   "id": "strange-communications",
   "metadata": {},
   "outputs": [
    {
     "name": "stdout",
     "output_type": "stream",
     "text": [
      "[89, 1]\n"
     ]
    }
   ],
   "source": [
    "print(list_1[-2:])"
   ]
  },
  {
   "cell_type": "code",
   "execution_count": 10,
   "id": "occasional-expansion",
   "metadata": {},
   "outputs": [
    {
     "name": "stdout",
     "output_type": "stream",
     "text": [
      "[34, 12]\n"
     ]
    }
   ],
   "source": [
    "print(list_1[:-2])"
   ]
  },
  {
   "cell_type": "code",
   "execution_count": 11,
   "id": "disabled-current",
   "metadata": {},
   "outputs": [
    {
     "data": {
      "text/plain": [
       "[1, 89, 12, 34]"
      ]
     },
     "execution_count": 11,
     "metadata": {},
     "output_type": "execute_result"
    }
   ],
   "source": [
    "# revers the elements in the string\n",
    "list_1[-1::-1]"
   ]
  },
  {
   "cell_type": "code",
   "execution_count": null,
   "id": "legal-american",
   "metadata": {},
   "outputs": [],
   "source": []
  }
 ],
 "metadata": {
  "kernelspec": {
   "display_name": "Python 3",
   "language": "python",
   "name": "python3"
  },
  "language_info": {
   "codemirror_mode": {
    "name": "ipython",
    "version": 3
   },
   "file_extension": ".py",
   "mimetype": "text/x-python",
   "name": "python",
   "nbconvert_exporter": "python",
   "pygments_lexer": "ipython3",
   "version": "3.7.9"
  }
 },
 "nbformat": 4,
 "nbformat_minor": 5
}
