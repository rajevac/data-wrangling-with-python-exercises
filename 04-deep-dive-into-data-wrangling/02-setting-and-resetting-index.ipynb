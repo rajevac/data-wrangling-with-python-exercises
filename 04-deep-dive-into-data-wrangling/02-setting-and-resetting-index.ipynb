{
 "cells": [
  {
   "cell_type": "code",
   "execution_count": 8,
   "metadata": {
    "collapsed": true
   },
   "outputs": [
    {
     "data": {
      "text/plain": "   Age  Height  Weight\nA   22      66     140\nB   42      70     148\nC   30      62     125\nD   35      68     160\nE   25      62     152",
      "text/html": "<div>\n<style scoped>\n    .dataframe tbody tr th:only-of-type {\n        vertical-align: middle;\n    }\n\n    .dataframe tbody tr th {\n        vertical-align: top;\n    }\n\n    .dataframe thead th {\n        text-align: right;\n    }\n</style>\n<table border=\"1\" class=\"dataframe\">\n  <thead>\n    <tr style=\"text-align: right;\">\n      <th></th>\n      <th>Age</th>\n      <th>Height</th>\n      <th>Weight</th>\n    </tr>\n  </thead>\n  <tbody>\n    <tr>\n      <th>A</th>\n      <td>22</td>\n      <td>66</td>\n      <td>140</td>\n    </tr>\n    <tr>\n      <th>B</th>\n      <td>42</td>\n      <td>70</td>\n      <td>148</td>\n    </tr>\n    <tr>\n      <th>C</th>\n      <td>30</td>\n      <td>62</td>\n      <td>125</td>\n    </tr>\n    <tr>\n      <th>D</th>\n      <td>35</td>\n      <td>68</td>\n      <td>160</td>\n    </tr>\n    <tr>\n      <th>E</th>\n      <td>25</td>\n      <td>62</td>\n      <td>152</td>\n    </tr>\n  </tbody>\n</table>\n</div>"
     },
     "execution_count": 8,
     "metadata": {},
     "output_type": "execute_result"
    }
   ],
   "source": [
    "import numpy as np\n",
    "import pandas as pd\n",
    "\n",
    "matrix_data = np.array([[22,66,140], [42,70,148], [30,62,125],[35,68,160], [25,62,152]])\n",
    "row_labels = ['A','B','C','D','E']\n",
    "column_headings = ['Age', 'Height', 'Weight']\n",
    "\n",
    "df1 = pd.DataFrame(data=matrix_data, index=row_labels, columns=column_headings)\n",
    "df1"
   ]
  },
  {
   "cell_type": "code",
   "execution_count": 9,
   "outputs": [
    {
     "data": {
      "text/plain": "  index  Age  Height  Weight\n0     A   22      66     140\n1     B   42      70     148\n2     C   30      62     125\n3     D   35      68     160\n4     E   25      62     152",
      "text/html": "<div>\n<style scoped>\n    .dataframe tbody tr th:only-of-type {\n        vertical-align: middle;\n    }\n\n    .dataframe tbody tr th {\n        vertical-align: top;\n    }\n\n    .dataframe thead th {\n        text-align: right;\n    }\n</style>\n<table border=\"1\" class=\"dataframe\">\n  <thead>\n    <tr style=\"text-align: right;\">\n      <th></th>\n      <th>index</th>\n      <th>Age</th>\n      <th>Height</th>\n      <th>Weight</th>\n    </tr>\n  </thead>\n  <tbody>\n    <tr>\n      <th>0</th>\n      <td>A</td>\n      <td>22</td>\n      <td>66</td>\n      <td>140</td>\n    </tr>\n    <tr>\n      <th>1</th>\n      <td>B</td>\n      <td>42</td>\n      <td>70</td>\n      <td>148</td>\n    </tr>\n    <tr>\n      <th>2</th>\n      <td>C</td>\n      <td>30</td>\n      <td>62</td>\n      <td>125</td>\n    </tr>\n    <tr>\n      <th>3</th>\n      <td>D</td>\n      <td>35</td>\n      <td>68</td>\n      <td>160</td>\n    </tr>\n    <tr>\n      <th>4</th>\n      <td>E</td>\n      <td>25</td>\n      <td>62</td>\n      <td>152</td>\n    </tr>\n  </tbody>\n</table>\n</div>"
     },
     "execution_count": 9,
     "metadata": {},
     "output_type": "execute_result"
    }
   ],
   "source": [
    "df1.reset_index()\n"
   ],
   "metadata": {
    "collapsed": false,
    "pycharm": {
     "name": "#%%\n"
    }
   }
  },
  {
   "cell_type": "code",
   "execution_count": 10,
   "outputs": [
    {
     "data": {
      "text/plain": "   Age  Height  Weight\nA   22      66     140\nB   42      70     148\nC   30      62     125\nD   35      68     160\nE   25      62     152",
      "text/html": "<div>\n<style scoped>\n    .dataframe tbody tr th:only-of-type {\n        vertical-align: middle;\n    }\n\n    .dataframe tbody tr th {\n        vertical-align: top;\n    }\n\n    .dataframe thead th {\n        text-align: right;\n    }\n</style>\n<table border=\"1\" class=\"dataframe\">\n  <thead>\n    <tr style=\"text-align: right;\">\n      <th></th>\n      <th>Age</th>\n      <th>Height</th>\n      <th>Weight</th>\n    </tr>\n  </thead>\n  <tbody>\n    <tr>\n      <th>A</th>\n      <td>22</td>\n      <td>66</td>\n      <td>140</td>\n    </tr>\n    <tr>\n      <th>B</th>\n      <td>42</td>\n      <td>70</td>\n      <td>148</td>\n    </tr>\n    <tr>\n      <th>C</th>\n      <td>30</td>\n      <td>62</td>\n      <td>125</td>\n    </tr>\n    <tr>\n      <th>D</th>\n      <td>35</td>\n      <td>68</td>\n      <td>160</td>\n    </tr>\n    <tr>\n      <th>E</th>\n      <td>25</td>\n      <td>62</td>\n      <td>152</td>\n    </tr>\n  </tbody>\n</table>\n</div>"
     },
     "execution_count": 10,
     "metadata": {},
     "output_type": "execute_result"
    }
   ],
   "source": [
    "df1"
   ],
   "metadata": {
    "collapsed": false,
    "pycharm": {
     "name": "#%%\n"
    }
   }
  },
  {
   "cell_type": "code",
   "execution_count": 11,
   "outputs": [
    {
     "data": {
      "text/plain": "   Age  Height  Weight\n0   22      66     140\n1   42      70     148\n2   30      62     125\n3   35      68     160\n4   25      62     152",
      "text/html": "<div>\n<style scoped>\n    .dataframe tbody tr th:only-of-type {\n        vertical-align: middle;\n    }\n\n    .dataframe tbody tr th {\n        vertical-align: top;\n    }\n\n    .dataframe thead th {\n        text-align: right;\n    }\n</style>\n<table border=\"1\" class=\"dataframe\">\n  <thead>\n    <tr style=\"text-align: right;\">\n      <th></th>\n      <th>Age</th>\n      <th>Height</th>\n      <th>Weight</th>\n    </tr>\n  </thead>\n  <tbody>\n    <tr>\n      <th>0</th>\n      <td>22</td>\n      <td>66</td>\n      <td>140</td>\n    </tr>\n    <tr>\n      <th>1</th>\n      <td>42</td>\n      <td>70</td>\n      <td>148</td>\n    </tr>\n    <tr>\n      <th>2</th>\n      <td>30</td>\n      <td>62</td>\n      <td>125</td>\n    </tr>\n    <tr>\n      <th>3</th>\n      <td>35</td>\n      <td>68</td>\n      <td>160</td>\n    </tr>\n    <tr>\n      <th>4</th>\n      <td>25</td>\n      <td>62</td>\n      <td>152</td>\n    </tr>\n  </tbody>\n</table>\n</div>"
     },
     "execution_count": 11,
     "metadata": {},
     "output_type": "execute_result"
    }
   ],
   "source": [
    "df1.reset_index(drop=True)"
   ],
   "metadata": {
    "collapsed": false,
    "pycharm": {
     "name": "#%%\n"
    }
   }
  },
  {
   "cell_type": "code",
   "execution_count": 12,
   "outputs": [
    {
     "data": {
      "text/plain": "   Age  Height  Weight\nA   22      66     140\nB   42      70     148\nC   30      62     125\nD   35      68     160\nE   25      62     152",
      "text/html": "<div>\n<style scoped>\n    .dataframe tbody tr th:only-of-type {\n        vertical-align: middle;\n    }\n\n    .dataframe tbody tr th {\n        vertical-align: top;\n    }\n\n    .dataframe thead th {\n        text-align: right;\n    }\n</style>\n<table border=\"1\" class=\"dataframe\">\n  <thead>\n    <tr style=\"text-align: right;\">\n      <th></th>\n      <th>Age</th>\n      <th>Height</th>\n      <th>Weight</th>\n    </tr>\n  </thead>\n  <tbody>\n    <tr>\n      <th>A</th>\n      <td>22</td>\n      <td>66</td>\n      <td>140</td>\n    </tr>\n    <tr>\n      <th>B</th>\n      <td>42</td>\n      <td>70</td>\n      <td>148</td>\n    </tr>\n    <tr>\n      <th>C</th>\n      <td>30</td>\n      <td>62</td>\n      <td>125</td>\n    </tr>\n    <tr>\n      <th>D</th>\n      <td>35</td>\n      <td>68</td>\n      <td>160</td>\n    </tr>\n    <tr>\n      <th>E</th>\n      <td>25</td>\n      <td>62</td>\n      <td>152</td>\n    </tr>\n  </tbody>\n</table>\n</div>"
     },
     "execution_count": 12,
     "metadata": {},
     "output_type": "execute_result"
    }
   ],
   "source": [
    "df1"
   ],
   "metadata": {
    "collapsed": false,
    "pycharm": {
     "name": "#%%\n"
    }
   }
  },
  {
   "cell_type": "code",
   "execution_count": 13,
   "outputs": [
    {
     "data": {
      "text/plain": "   Age  Height  Weight Profession\nA   22      66     140    Student\nB   42      70     148    Teacher\nC   30      62     125   Engineer\nD   35      68     160     Doctor\nE   25      62     152      Nurse",
      "text/html": "<div>\n<style scoped>\n    .dataframe tbody tr th:only-of-type {\n        vertical-align: middle;\n    }\n\n    .dataframe tbody tr th {\n        vertical-align: top;\n    }\n\n    .dataframe thead th {\n        text-align: right;\n    }\n</style>\n<table border=\"1\" class=\"dataframe\">\n  <thead>\n    <tr style=\"text-align: right;\">\n      <th></th>\n      <th>Age</th>\n      <th>Height</th>\n      <th>Weight</th>\n      <th>Profession</th>\n    </tr>\n  </thead>\n  <tbody>\n    <tr>\n      <th>A</th>\n      <td>22</td>\n      <td>66</td>\n      <td>140</td>\n      <td>Student</td>\n    </tr>\n    <tr>\n      <th>B</th>\n      <td>42</td>\n      <td>70</td>\n      <td>148</td>\n      <td>Teacher</td>\n    </tr>\n    <tr>\n      <th>C</th>\n      <td>30</td>\n      <td>62</td>\n      <td>125</td>\n      <td>Engineer</td>\n    </tr>\n    <tr>\n      <th>D</th>\n      <td>35</td>\n      <td>68</td>\n      <td>160</td>\n      <td>Doctor</td>\n    </tr>\n    <tr>\n      <th>E</th>\n      <td>25</td>\n      <td>62</td>\n      <td>152</td>\n      <td>Nurse</td>\n    </tr>\n  </tbody>\n</table>\n</div>"
     },
     "execution_count": 13,
     "metadata": {},
     "output_type": "execute_result"
    }
   ],
   "source": [
    "df1['Profession'] = 'Student Teacher Engineer Doctor Nurse'.split()\n",
    "df1\n"
   ],
   "metadata": {
    "collapsed": false,
    "pycharm": {
     "name": "#%%\n"
    }
   }
  },
  {
   "cell_type": "code",
   "execution_count": 14,
   "outputs": [
    {
     "data": {
      "text/plain": "            Age  Height  Weight\nProfession                     \nStudent      22      66     140\nTeacher      42      70     148\nEngineer     30      62     125\nDoctor       35      68     160\nNurse        25      62     152",
      "text/html": "<div>\n<style scoped>\n    .dataframe tbody tr th:only-of-type {\n        vertical-align: middle;\n    }\n\n    .dataframe tbody tr th {\n        vertical-align: top;\n    }\n\n    .dataframe thead th {\n        text-align: right;\n    }\n</style>\n<table border=\"1\" class=\"dataframe\">\n  <thead>\n    <tr style=\"text-align: right;\">\n      <th></th>\n      <th>Age</th>\n      <th>Height</th>\n      <th>Weight</th>\n    </tr>\n    <tr>\n      <th>Profession</th>\n      <th></th>\n      <th></th>\n      <th></th>\n    </tr>\n  </thead>\n  <tbody>\n    <tr>\n      <th>Student</th>\n      <td>22</td>\n      <td>66</td>\n      <td>140</td>\n    </tr>\n    <tr>\n      <th>Teacher</th>\n      <td>42</td>\n      <td>70</td>\n      <td>148</td>\n    </tr>\n    <tr>\n      <th>Engineer</th>\n      <td>30</td>\n      <td>62</td>\n      <td>125</td>\n    </tr>\n    <tr>\n      <th>Doctor</th>\n      <td>35</td>\n      <td>68</td>\n      <td>160</td>\n    </tr>\n    <tr>\n      <th>Nurse</th>\n      <td>25</td>\n      <td>62</td>\n      <td>152</td>\n    </tr>\n  </tbody>\n</table>\n</div>"
     },
     "execution_count": 14,
     "metadata": {},
     "output_type": "execute_result"
    }
   ],
   "source": [
    "df1.set_index('Profession')\n"
   ],
   "metadata": {
    "collapsed": false,
    "pycharm": {
     "name": "#%%\n"
    }
   }
  },
  {
   "cell_type": "code",
   "execution_count": 15,
   "outputs": [
    {
     "data": {
      "text/plain": "   Age  Height  Weight Profession\nA   22      66     140    Student\nB   42      70     148    Teacher\nC   30      62     125   Engineer\nD   35      68     160     Doctor\nE   25      62     152      Nurse",
      "text/html": "<div>\n<style scoped>\n    .dataframe tbody tr th:only-of-type {\n        vertical-align: middle;\n    }\n\n    .dataframe tbody tr th {\n        vertical-align: top;\n    }\n\n    .dataframe thead th {\n        text-align: right;\n    }\n</style>\n<table border=\"1\" class=\"dataframe\">\n  <thead>\n    <tr style=\"text-align: right;\">\n      <th></th>\n      <th>Age</th>\n      <th>Height</th>\n      <th>Weight</th>\n      <th>Profession</th>\n    </tr>\n  </thead>\n  <tbody>\n    <tr>\n      <th>A</th>\n      <td>22</td>\n      <td>66</td>\n      <td>140</td>\n      <td>Student</td>\n    </tr>\n    <tr>\n      <th>B</th>\n      <td>42</td>\n      <td>70</td>\n      <td>148</td>\n      <td>Teacher</td>\n    </tr>\n    <tr>\n      <th>C</th>\n      <td>30</td>\n      <td>62</td>\n      <td>125</td>\n      <td>Engineer</td>\n    </tr>\n    <tr>\n      <th>D</th>\n      <td>35</td>\n      <td>68</td>\n      <td>160</td>\n      <td>Doctor</td>\n    </tr>\n    <tr>\n      <th>E</th>\n      <td>25</td>\n      <td>62</td>\n      <td>152</td>\n      <td>Nurse</td>\n    </tr>\n  </tbody>\n</table>\n</div>"
     },
     "execution_count": 15,
     "metadata": {},
     "output_type": "execute_result"
    }
   ],
   "source": [
    "df1\n"
   ],
   "metadata": {
    "collapsed": false,
    "pycharm": {
     "name": "#%%\n"
    }
   }
  },
  {
   "cell_type": "code",
   "execution_count": 16,
   "outputs": [
    {
     "data": {
      "text/plain": "            Age  Height  Weight\nProfession                     \nStudent      22      66     140\nTeacher      42      70     148\nEngineer     30      62     125\nDoctor       35      68     160\nNurse        25      62     152",
      "text/html": "<div>\n<style scoped>\n    .dataframe tbody tr th:only-of-type {\n        vertical-align: middle;\n    }\n\n    .dataframe tbody tr th {\n        vertical-align: top;\n    }\n\n    .dataframe thead th {\n        text-align: right;\n    }\n</style>\n<table border=\"1\" class=\"dataframe\">\n  <thead>\n    <tr style=\"text-align: right;\">\n      <th></th>\n      <th>Age</th>\n      <th>Height</th>\n      <th>Weight</th>\n    </tr>\n    <tr>\n      <th>Profession</th>\n      <th></th>\n      <th></th>\n      <th></th>\n    </tr>\n  </thead>\n  <tbody>\n    <tr>\n      <th>Student</th>\n      <td>22</td>\n      <td>66</td>\n      <td>140</td>\n    </tr>\n    <tr>\n      <th>Teacher</th>\n      <td>42</td>\n      <td>70</td>\n      <td>148</td>\n    </tr>\n    <tr>\n      <th>Engineer</th>\n      <td>30</td>\n      <td>62</td>\n      <td>125</td>\n    </tr>\n    <tr>\n      <th>Doctor</th>\n      <td>35</td>\n      <td>68</td>\n      <td>160</td>\n    </tr>\n    <tr>\n      <th>Nurse</th>\n      <td>25</td>\n      <td>62</td>\n      <td>152</td>\n    </tr>\n  </tbody>\n</table>\n</div>"
     },
     "execution_count": 16,
     "metadata": {},
     "output_type": "execute_result"
    }
   ],
   "source": [
    "df1.set_index('Profession', inplace=True)\n",
    "df1"
   ],
   "metadata": {
    "collapsed": false,
    "pycharm": {
     "name": "#%%\n"
    }
   }
  },
  {
   "cell_type": "code",
   "execution_count": 17,
   "outputs": [
    {
     "data": {
      "text/plain": "   Age  Height  Weight\n0   22      66     140\n1   42      70     148\n2   30      62     125\n3   35      68     160\n4   25      62     152",
      "text/html": "<div>\n<style scoped>\n    .dataframe tbody tr th:only-of-type {\n        vertical-align: middle;\n    }\n\n    .dataframe tbody tr th {\n        vertical-align: top;\n    }\n\n    .dataframe thead th {\n        text-align: right;\n    }\n</style>\n<table border=\"1\" class=\"dataframe\">\n  <thead>\n    <tr style=\"text-align: right;\">\n      <th></th>\n      <th>Age</th>\n      <th>Height</th>\n      <th>Weight</th>\n    </tr>\n  </thead>\n  <tbody>\n    <tr>\n      <th>0</th>\n      <td>22</td>\n      <td>66</td>\n      <td>140</td>\n    </tr>\n    <tr>\n      <th>1</th>\n      <td>42</td>\n      <td>70</td>\n      <td>148</td>\n    </tr>\n    <tr>\n      <th>2</th>\n      <td>30</td>\n      <td>62</td>\n      <td>125</td>\n    </tr>\n    <tr>\n      <th>3</th>\n      <td>35</td>\n      <td>68</td>\n      <td>160</td>\n    </tr>\n    <tr>\n      <th>4</th>\n      <td>25</td>\n      <td>62</td>\n      <td>152</td>\n    </tr>\n  </tbody>\n</table>\n</div>"
     },
     "execution_count": 17,
     "metadata": {},
     "output_type": "execute_result"
    }
   ],
   "source": [
    "df1.reset_index(drop=True, inplace=True)\n",
    "df1\n"
   ],
   "metadata": {
    "collapsed": false,
    "pycharm": {
     "name": "#%%\n"
    }
   }
  },
  {
   "cell_type": "code",
   "execution_count": 18,
   "outputs": [
    {
     "data": {
      "text/plain": "   Row ID        Order ID Order Date  Ship Date       Ship Mode Customer ID  \\\n0       1  CA-2016-152156 2016-11-08 2016-11-11    Second Class    CG-12520   \n1       2  CA-2016-152156 2016-11-08 2016-11-11    Second Class    CG-12520   \n2       3  CA-2016-138688 2016-06-12 2016-06-16    Second Class    DV-13045   \n3       4  US-2015-108966 2015-10-11 2015-10-18  Standard Class    SO-20335   \n4       5  US-2015-108966 2015-10-11 2015-10-18  Standard Class    SO-20335   \n\n     Customer Name    Segment        Country             City  ...  \\\n0      Claire Gute   Consumer  United States        Henderson  ...   \n1      Claire Gute   Consumer  United States        Henderson  ...   \n2  Darrin Van Huff  Corporate  United States      Los Angeles  ...   \n3   Sean O'Donnell   Consumer  United States  Fort Lauderdale  ...   \n4   Sean O'Donnell   Consumer  United States  Fort Lauderdale  ...   \n\n  Postal Code  Region       Product ID         Category Sub-Category  \\\n0       42420   South  FUR-BO-10001798        Furniture    Bookcases   \n1       42420   South  FUR-CH-10000454        Furniture       Chairs   \n2       90036    West  OFF-LA-10000240  Office Supplies       Labels   \n3       33311   South  FUR-TA-10000577        Furniture       Tables   \n4       33311   South  OFF-ST-10000760  Office Supplies      Storage   \n\n                                        Product Name     Sales  Quantity  \\\n0                  Bush Somerset Collection Bookcase  261.9600         2   \n1  Hon Deluxe Fabric Upholstered Stacking Chairs,...  731.9400         3   \n2  Self-Adhesive Address Labels for Typewriters b...   14.6200         2   \n3      Bretford CR4500 Series Slim Rectangular Table  957.5775         5   \n4                     Eldon Fold 'N Roll Cart System   22.3680         2   \n\n   Discount    Profit  \n0      0.00   41.9136  \n1      0.00  219.5820  \n2      0.00    6.8714  \n3      0.45 -383.0310  \n4      0.20    2.5164  \n\n[5 rows x 21 columns]",
      "text/html": "<div>\n<style scoped>\n    .dataframe tbody tr th:only-of-type {\n        vertical-align: middle;\n    }\n\n    .dataframe tbody tr th {\n        vertical-align: top;\n    }\n\n    .dataframe thead th {\n        text-align: right;\n    }\n</style>\n<table border=\"1\" class=\"dataframe\">\n  <thead>\n    <tr style=\"text-align: right;\">\n      <th></th>\n      <th>Row ID</th>\n      <th>Order ID</th>\n      <th>Order Date</th>\n      <th>Ship Date</th>\n      <th>Ship Mode</th>\n      <th>Customer ID</th>\n      <th>Customer Name</th>\n      <th>Segment</th>\n      <th>Country</th>\n      <th>City</th>\n      <th>...</th>\n      <th>Postal Code</th>\n      <th>Region</th>\n      <th>Product ID</th>\n      <th>Category</th>\n      <th>Sub-Category</th>\n      <th>Product Name</th>\n      <th>Sales</th>\n      <th>Quantity</th>\n      <th>Discount</th>\n      <th>Profit</th>\n    </tr>\n  </thead>\n  <tbody>\n    <tr>\n      <th>0</th>\n      <td>1</td>\n      <td>CA-2016-152156</td>\n      <td>2016-11-08</td>\n      <td>2016-11-11</td>\n      <td>Second Class</td>\n      <td>CG-12520</td>\n      <td>Claire Gute</td>\n      <td>Consumer</td>\n      <td>United States</td>\n      <td>Henderson</td>\n      <td>...</td>\n      <td>42420</td>\n      <td>South</td>\n      <td>FUR-BO-10001798</td>\n      <td>Furniture</td>\n      <td>Bookcases</td>\n      <td>Bush Somerset Collection Bookcase</td>\n      <td>261.9600</td>\n      <td>2</td>\n      <td>0.00</td>\n      <td>41.9136</td>\n    </tr>\n    <tr>\n      <th>1</th>\n      <td>2</td>\n      <td>CA-2016-152156</td>\n      <td>2016-11-08</td>\n      <td>2016-11-11</td>\n      <td>Second Class</td>\n      <td>CG-12520</td>\n      <td>Claire Gute</td>\n      <td>Consumer</td>\n      <td>United States</td>\n      <td>Henderson</td>\n      <td>...</td>\n      <td>42420</td>\n      <td>South</td>\n      <td>FUR-CH-10000454</td>\n      <td>Furniture</td>\n      <td>Chairs</td>\n      <td>Hon Deluxe Fabric Upholstered Stacking Chairs,...</td>\n      <td>731.9400</td>\n      <td>3</td>\n      <td>0.00</td>\n      <td>219.5820</td>\n    </tr>\n    <tr>\n      <th>2</th>\n      <td>3</td>\n      <td>CA-2016-138688</td>\n      <td>2016-06-12</td>\n      <td>2016-06-16</td>\n      <td>Second Class</td>\n      <td>DV-13045</td>\n      <td>Darrin Van Huff</td>\n      <td>Corporate</td>\n      <td>United States</td>\n      <td>Los Angeles</td>\n      <td>...</td>\n      <td>90036</td>\n      <td>West</td>\n      <td>OFF-LA-10000240</td>\n      <td>Office Supplies</td>\n      <td>Labels</td>\n      <td>Self-Adhesive Address Labels for Typewriters b...</td>\n      <td>14.6200</td>\n      <td>2</td>\n      <td>0.00</td>\n      <td>6.8714</td>\n    </tr>\n    <tr>\n      <th>3</th>\n      <td>4</td>\n      <td>US-2015-108966</td>\n      <td>2015-10-11</td>\n      <td>2015-10-18</td>\n      <td>Standard Class</td>\n      <td>SO-20335</td>\n      <td>Sean O'Donnell</td>\n      <td>Consumer</td>\n      <td>United States</td>\n      <td>Fort Lauderdale</td>\n      <td>...</td>\n      <td>33311</td>\n      <td>South</td>\n      <td>FUR-TA-10000577</td>\n      <td>Furniture</td>\n      <td>Tables</td>\n      <td>Bretford CR4500 Series Slim Rectangular Table</td>\n      <td>957.5775</td>\n      <td>5</td>\n      <td>0.45</td>\n      <td>-383.0310</td>\n    </tr>\n    <tr>\n      <th>4</th>\n      <td>5</td>\n      <td>US-2015-108966</td>\n      <td>2015-10-11</td>\n      <td>2015-10-18</td>\n      <td>Standard Class</td>\n      <td>SO-20335</td>\n      <td>Sean O'Donnell</td>\n      <td>Consumer</td>\n      <td>United States</td>\n      <td>Fort Lauderdale</td>\n      <td>...</td>\n      <td>33311</td>\n      <td>South</td>\n      <td>OFF-ST-10000760</td>\n      <td>Office Supplies</td>\n      <td>Storage</td>\n      <td>Eldon Fold 'N Roll Cart System</td>\n      <td>22.3680</td>\n      <td>2</td>\n      <td>0.20</td>\n      <td>2.5164</td>\n    </tr>\n  </tbody>\n</table>\n<p>5 rows × 21 columns</p>\n</div>"
     },
     "execution_count": 18,
     "metadata": {},
     "output_type": "execute_result"
    }
   ],
   "source": [
    "df = pd.read_excel('Sample-Superstore.xls')\n",
    "df.head()\n"
   ],
   "metadata": {
    "collapsed": false,
    "pycharm": {
     "name": "#%%\n"
    }
   }
  },
  {
   "cell_type": "code",
   "execution_count": 19,
   "outputs": [
    {
     "data": {
      "text/plain": "        Ship Mode       State     Sales\n0    Second Class    Kentucky  261.9600\n1    Second Class    Kentucky  731.9400\n2    Second Class  California   14.6200\n3  Standard Class     Florida  957.5775\n4  Standard Class     Florida   22.3680\n5  Standard Class  California   48.8600\n6  Standard Class  California    7.2800\n7  Standard Class  California  907.1520\n8  Standard Class  California   18.5040\n9  Standard Class  California  114.9000",
      "text/html": "<div>\n<style scoped>\n    .dataframe tbody tr th:only-of-type {\n        vertical-align: middle;\n    }\n\n    .dataframe tbody tr th {\n        vertical-align: top;\n    }\n\n    .dataframe thead th {\n        text-align: right;\n    }\n</style>\n<table border=\"1\" class=\"dataframe\">\n  <thead>\n    <tr style=\"text-align: right;\">\n      <th></th>\n      <th>Ship Mode</th>\n      <th>State</th>\n      <th>Sales</th>\n    </tr>\n  </thead>\n  <tbody>\n    <tr>\n      <th>0</th>\n      <td>Second Class</td>\n      <td>Kentucky</td>\n      <td>261.9600</td>\n    </tr>\n    <tr>\n      <th>1</th>\n      <td>Second Class</td>\n      <td>Kentucky</td>\n      <td>731.9400</td>\n    </tr>\n    <tr>\n      <th>2</th>\n      <td>Second Class</td>\n      <td>California</td>\n      <td>14.6200</td>\n    </tr>\n    <tr>\n      <th>3</th>\n      <td>Standard Class</td>\n      <td>Florida</td>\n      <td>957.5775</td>\n    </tr>\n    <tr>\n      <th>4</th>\n      <td>Standard Class</td>\n      <td>Florida</td>\n      <td>22.3680</td>\n    </tr>\n    <tr>\n      <th>5</th>\n      <td>Standard Class</td>\n      <td>California</td>\n      <td>48.8600</td>\n    </tr>\n    <tr>\n      <th>6</th>\n      <td>Standard Class</td>\n      <td>California</td>\n      <td>7.2800</td>\n    </tr>\n    <tr>\n      <th>7</th>\n      <td>Standard Class</td>\n      <td>California</td>\n      <td>907.1520</td>\n    </tr>\n    <tr>\n      <th>8</th>\n      <td>Standard Class</td>\n      <td>California</td>\n      <td>18.5040</td>\n    </tr>\n    <tr>\n      <th>9</th>\n      <td>Standard Class</td>\n      <td>California</td>\n      <td>114.9000</td>\n    </tr>\n  </tbody>\n</table>\n</div>"
     },
     "execution_count": 19,
     "metadata": {},
     "output_type": "execute_result"
    }
   ],
   "source": [
    "df_subset = df.loc[[i for i in range(10)], ['Ship Mode', 'State', 'Sales']]\n",
    "df_subset"
   ],
   "metadata": {
    "collapsed": false,
    "pycharm": {
     "name": "#%%\n"
    }
   }
  },
  {
   "cell_type": "code",
   "execution_count": 21,
   "outputs": [
    {
     "data": {
      "text/plain": "                 Sales\nState                 \nCalifornia  185.219333\nFlorida     489.972750\nKentucky    496.950000",
      "text/html": "<div>\n<style scoped>\n    .dataframe tbody tr th:only-of-type {\n        vertical-align: middle;\n    }\n\n    .dataframe tbody tr th {\n        vertical-align: top;\n    }\n\n    .dataframe thead th {\n        text-align: right;\n    }\n</style>\n<table border=\"1\" class=\"dataframe\">\n  <thead>\n    <tr style=\"text-align: right;\">\n      <th></th>\n      <th>Sales</th>\n    </tr>\n    <tr>\n      <th>State</th>\n      <th></th>\n    </tr>\n  </thead>\n  <tbody>\n    <tr>\n      <th>California</th>\n      <td>185.219333</td>\n    </tr>\n    <tr>\n      <th>Florida</th>\n      <td>489.972750</td>\n    </tr>\n    <tr>\n      <th>Kentucky</th>\n      <td>496.950000</td>\n    </tr>\n  </tbody>\n</table>\n</div>"
     },
     "execution_count": 21,
     "metadata": {},
     "output_type": "execute_result"
    }
   ],
   "source": [
    "group_by_state = df_subset.groupby('State')\n",
    "group_by_state.mean()"
   ],
   "metadata": {
    "collapsed": false,
    "pycharm": {
     "name": "#%%\n"
    }
   }
  },
  {
   "cell_type": "code",
   "execution_count": 22,
   "outputs": [
    {
     "data": {
      "text/plain": "                Sales\nState                \nCalifornia  1111.3160\nFlorida      979.9455\nKentucky     993.9000",
      "text/html": "<div>\n<style scoped>\n    .dataframe tbody tr th:only-of-type {\n        vertical-align: middle;\n    }\n\n    .dataframe tbody tr th {\n        vertical-align: top;\n    }\n\n    .dataframe thead th {\n        text-align: right;\n    }\n</style>\n<table border=\"1\" class=\"dataframe\">\n  <thead>\n    <tr style=\"text-align: right;\">\n      <th></th>\n      <th>Sales</th>\n    </tr>\n    <tr>\n      <th>State</th>\n      <th></th>\n    </tr>\n  </thead>\n  <tbody>\n    <tr>\n      <th>California</th>\n      <td>1111.3160</td>\n    </tr>\n    <tr>\n      <th>Florida</th>\n      <td>979.9455</td>\n    </tr>\n    <tr>\n      <th>Kentucky</th>\n      <td>993.9000</td>\n    </tr>\n  </tbody>\n</table>\n</div>"
     },
     "execution_count": 22,
     "metadata": {},
     "output_type": "execute_result"
    }
   ],
   "source": [
    "group_by_state.sum()\n"
   ],
   "metadata": {
    "collapsed": false,
    "pycharm": {
     "name": "#%%\n"
    }
   }
  },
  {
   "cell_type": "code",
   "execution_count": 23,
   "outputs": [
    {
     "data": {
      "text/plain": "           Sales                                                          \\\n           count        mean         std      min         25%        50%   \nState                                                                      \nCalifornia   6.0  185.219333  355.889307    7.280   15.591000   33.68200   \nFlorida      2.0  489.972750  661.292979   22.368  256.170375  489.97275   \nKentucky     2.0  496.950000  332.326045  261.960  379.455000  496.95000   \n\n                                  \n                   75%       max  \nState                             \nCalifornia   98.390000  907.1520  \nFlorida     723.775125  957.5775  \nKentucky    614.445000  731.9400  ",
      "text/html": "<div>\n<style scoped>\n    .dataframe tbody tr th:only-of-type {\n        vertical-align: middle;\n    }\n\n    .dataframe tbody tr th {\n        vertical-align: top;\n    }\n\n    .dataframe thead tr th {\n        text-align: left;\n    }\n\n    .dataframe thead tr:last-of-type th {\n        text-align: right;\n    }\n</style>\n<table border=\"1\" class=\"dataframe\">\n  <thead>\n    <tr>\n      <th></th>\n      <th colspan=\"8\" halign=\"left\">Sales</th>\n    </tr>\n    <tr>\n      <th></th>\n      <th>count</th>\n      <th>mean</th>\n      <th>std</th>\n      <th>min</th>\n      <th>25%</th>\n      <th>50%</th>\n      <th>75%</th>\n      <th>max</th>\n    </tr>\n    <tr>\n      <th>State</th>\n      <th></th>\n      <th></th>\n      <th></th>\n      <th></th>\n      <th></th>\n      <th></th>\n      <th></th>\n      <th></th>\n    </tr>\n  </thead>\n  <tbody>\n    <tr>\n      <th>California</th>\n      <td>6.0</td>\n      <td>185.219333</td>\n      <td>355.889307</td>\n      <td>7.280</td>\n      <td>15.591000</td>\n      <td>33.68200</td>\n      <td>98.390000</td>\n      <td>907.1520</td>\n    </tr>\n    <tr>\n      <th>Florida</th>\n      <td>2.0</td>\n      <td>489.972750</td>\n      <td>661.292979</td>\n      <td>22.368</td>\n      <td>256.170375</td>\n      <td>489.97275</td>\n      <td>723.775125</td>\n      <td>957.5775</td>\n    </tr>\n    <tr>\n      <th>Kentucky</th>\n      <td>2.0</td>\n      <td>496.950000</td>\n      <td>332.326045</td>\n      <td>261.960</td>\n      <td>379.455000</td>\n      <td>496.95000</td>\n      <td>614.445000</td>\n      <td>731.9400</td>\n    </tr>\n  </tbody>\n</table>\n</div>"
     },
     "execution_count": 23,
     "metadata": {},
     "output_type": "execute_result"
    }
   ],
   "source": [
    "pd.DataFrame(group_by_state.describe())"
   ],
   "metadata": {
    "collapsed": false,
    "pycharm": {
     "name": "#%%\n"
    }
   }
  },
  {
   "cell_type": "code",
   "execution_count": 24,
   "outputs": [
    {
     "data": {
      "text/plain": "             California\nSales count    6.000000\n      mean   185.219333\n      std    355.889307\n      min      7.280000\n      25%     15.591000\n      50%     33.682000\n      75%     98.390000\n      max    907.152000",
      "text/html": "<div>\n<style scoped>\n    .dataframe tbody tr th:only-of-type {\n        vertical-align: middle;\n    }\n\n    .dataframe tbody tr th {\n        vertical-align: top;\n    }\n\n    .dataframe thead th {\n        text-align: right;\n    }\n</style>\n<table border=\"1\" class=\"dataframe\">\n  <thead>\n    <tr style=\"text-align: right;\">\n      <th></th>\n      <th></th>\n      <th>California</th>\n    </tr>\n  </thead>\n  <tbody>\n    <tr>\n      <th rowspan=\"8\" valign=\"top\">Sales</th>\n      <th>count</th>\n      <td>6.000000</td>\n    </tr>\n    <tr>\n      <th>mean</th>\n      <td>185.219333</td>\n    </tr>\n    <tr>\n      <th>std</th>\n      <td>355.889307</td>\n    </tr>\n    <tr>\n      <th>min</th>\n      <td>7.280000</td>\n    </tr>\n    <tr>\n      <th>25%</th>\n      <td>15.591000</td>\n    </tr>\n    <tr>\n      <th>50%</th>\n      <td>33.682000</td>\n    </tr>\n    <tr>\n      <th>75%</th>\n      <td>98.390000</td>\n    </tr>\n    <tr>\n      <th>max</th>\n      <td>907.152000</td>\n    </tr>\n  </tbody>\n</table>\n</div>"
     },
     "execution_count": 24,
     "metadata": {},
     "output_type": "execute_result"
    }
   ],
   "source": [
    "pd.DataFrame(group_by_state.describe().loc['California'])\n"
   ],
   "metadata": {
    "collapsed": false,
    "pycharm": {
     "name": "#%%\n"
    }
   }
  },
  {
   "cell_type": "code",
   "execution_count": 26,
   "outputs": [
    {
     "data": {
      "text/plain": "               Sales                                                           \\\n               count        mean         std    min      25%     50%      75%   \nShip Mode                                                                       \nSecond Class     3.0  336.173333  364.373037  14.62  138.290  261.96  496.950   \nStandard Class   7.0  296.663071  435.947552   7.28   20.436   48.86  511.026   \n\n                          \n                     max  \nShip Mode                 \nSecond Class    731.9400  \nStandard Class  957.5775  ",
      "text/html": "<div>\n<style scoped>\n    .dataframe tbody tr th:only-of-type {\n        vertical-align: middle;\n    }\n\n    .dataframe tbody tr th {\n        vertical-align: top;\n    }\n\n    .dataframe thead tr th {\n        text-align: left;\n    }\n\n    .dataframe thead tr:last-of-type th {\n        text-align: right;\n    }\n</style>\n<table border=\"1\" class=\"dataframe\">\n  <thead>\n    <tr>\n      <th></th>\n      <th colspan=\"8\" halign=\"left\">Sales</th>\n    </tr>\n    <tr>\n      <th></th>\n      <th>count</th>\n      <th>mean</th>\n      <th>std</th>\n      <th>min</th>\n      <th>25%</th>\n      <th>50%</th>\n      <th>75%</th>\n      <th>max</th>\n    </tr>\n    <tr>\n      <th>Ship Mode</th>\n      <th></th>\n      <th></th>\n      <th></th>\n      <th></th>\n      <th></th>\n      <th></th>\n      <th></th>\n      <th></th>\n    </tr>\n  </thead>\n  <tbody>\n    <tr>\n      <th>Second Class</th>\n      <td>3.0</td>\n      <td>336.173333</td>\n      <td>364.373037</td>\n      <td>14.62</td>\n      <td>138.290</td>\n      <td>261.96</td>\n      <td>496.950</td>\n      <td>731.9400</td>\n    </tr>\n    <tr>\n      <th>Standard Class</th>\n      <td>7.0</td>\n      <td>296.663071</td>\n      <td>435.947552</td>\n      <td>7.28</td>\n      <td>20.436</td>\n      <td>48.86</td>\n      <td>511.026</td>\n      <td>957.5775</td>\n    </tr>\n  </tbody>\n</table>\n</div>"
     },
     "execution_count": 26,
     "metadata": {},
     "output_type": "execute_result"
    }
   ],
   "source": [
    "df_subset.groupby('Ship Mode').describe().loc[['Second Class', 'Standard Class']]"
   ],
   "metadata": {
    "collapsed": false,
    "pycharm": {
     "name": "#%%\n"
    }
   }
  },
  {
   "cell_type": "code",
   "execution_count": 29,
   "outputs": [
    {
     "data": {
      "text/plain": "                      count         mean         std       min        25%  \\\nState     City                                                              \nAlabama   Auburn        6.0   294.471667  361.914543     3.760     8.8050   \n          Decatur      13.0   259.601538  385.660903    14.940    23.9200   \n          Florence      5.0   399.470000  796.488863     4.980     7.2700   \n          Hoover        4.0   131.462500  230.646923     7.160    13.3925   \n          Huntsville   10.0   248.437000  419.576667     3.620    26.8700   \n...                     ...          ...         ...       ...        ...   \nWisconsin Superior      9.0   144.414444  213.394065     5.560    17.1200   \n          Waukesha      1.0    54.500000         NaN    54.500    54.5000   \n          Wausau        4.0    79.370000  111.450605    12.390    20.0325   \n          West Allis    2.0   125.240000  165.067007     8.520    66.8800   \nWyoming   Cheyenne      1.0  1603.136000         NaN  1603.136  1603.1360   \n\n                           50%        75%       max  \nState     City                                       \nAlabama   Auburn       182.030   456.4075   900.080  \n          Decatur       44.950   239.9200  1215.920  \n          Florence      12.480   152.7600  1819.860  \n          Hoover        20.725   138.7950   477.240  \n          Huntsville    81.920   171.8075  1319.960  \n...                        ...        ...       ...  \nWisconsin Superior      47.400   125.9900   629.100  \n          Waukesha      54.500    54.5000    54.500  \n          Wausau        29.605    88.9425   245.880  \n          West Allis   125.240   183.6000   241.960  \nWyoming   Cheyenne    1603.136  1603.1360  1603.136  \n\n[604 rows x 8 columns]",
      "text/html": "<div>\n<style scoped>\n    .dataframe tbody tr th:only-of-type {\n        vertical-align: middle;\n    }\n\n    .dataframe tbody tr th {\n        vertical-align: top;\n    }\n\n    .dataframe thead th {\n        text-align: right;\n    }\n</style>\n<table border=\"1\" class=\"dataframe\">\n  <thead>\n    <tr style=\"text-align: right;\">\n      <th></th>\n      <th></th>\n      <th>count</th>\n      <th>mean</th>\n      <th>std</th>\n      <th>min</th>\n      <th>25%</th>\n      <th>50%</th>\n      <th>75%</th>\n      <th>max</th>\n    </tr>\n    <tr>\n      <th>State</th>\n      <th>City</th>\n      <th></th>\n      <th></th>\n      <th></th>\n      <th></th>\n      <th></th>\n      <th></th>\n      <th></th>\n      <th></th>\n    </tr>\n  </thead>\n  <tbody>\n    <tr>\n      <th rowspan=\"5\" valign=\"top\">Alabama</th>\n      <th>Auburn</th>\n      <td>6.0</td>\n      <td>294.471667</td>\n      <td>361.914543</td>\n      <td>3.760</td>\n      <td>8.8050</td>\n      <td>182.030</td>\n      <td>456.4075</td>\n      <td>900.080</td>\n    </tr>\n    <tr>\n      <th>Decatur</th>\n      <td>13.0</td>\n      <td>259.601538</td>\n      <td>385.660903</td>\n      <td>14.940</td>\n      <td>23.9200</td>\n      <td>44.950</td>\n      <td>239.9200</td>\n      <td>1215.920</td>\n    </tr>\n    <tr>\n      <th>Florence</th>\n      <td>5.0</td>\n      <td>399.470000</td>\n      <td>796.488863</td>\n      <td>4.980</td>\n      <td>7.2700</td>\n      <td>12.480</td>\n      <td>152.7600</td>\n      <td>1819.860</td>\n    </tr>\n    <tr>\n      <th>Hoover</th>\n      <td>4.0</td>\n      <td>131.462500</td>\n      <td>230.646923</td>\n      <td>7.160</td>\n      <td>13.3925</td>\n      <td>20.725</td>\n      <td>138.7950</td>\n      <td>477.240</td>\n    </tr>\n    <tr>\n      <th>Huntsville</th>\n      <td>10.0</td>\n      <td>248.437000</td>\n      <td>419.576667</td>\n      <td>3.620</td>\n      <td>26.8700</td>\n      <td>81.920</td>\n      <td>171.8075</td>\n      <td>1319.960</td>\n    </tr>\n    <tr>\n      <th>...</th>\n      <th>...</th>\n      <td>...</td>\n      <td>...</td>\n      <td>...</td>\n      <td>...</td>\n      <td>...</td>\n      <td>...</td>\n      <td>...</td>\n      <td>...</td>\n    </tr>\n    <tr>\n      <th rowspan=\"4\" valign=\"top\">Wisconsin</th>\n      <th>Superior</th>\n      <td>9.0</td>\n      <td>144.414444</td>\n      <td>213.394065</td>\n      <td>5.560</td>\n      <td>17.1200</td>\n      <td>47.400</td>\n      <td>125.9900</td>\n      <td>629.100</td>\n    </tr>\n    <tr>\n      <th>Waukesha</th>\n      <td>1.0</td>\n      <td>54.500000</td>\n      <td>NaN</td>\n      <td>54.500</td>\n      <td>54.5000</td>\n      <td>54.500</td>\n      <td>54.5000</td>\n      <td>54.500</td>\n    </tr>\n    <tr>\n      <th>Wausau</th>\n      <td>4.0</td>\n      <td>79.370000</td>\n      <td>111.450605</td>\n      <td>12.390</td>\n      <td>20.0325</td>\n      <td>29.605</td>\n      <td>88.9425</td>\n      <td>245.880</td>\n    </tr>\n    <tr>\n      <th>West Allis</th>\n      <td>2.0</td>\n      <td>125.240000</td>\n      <td>165.067007</td>\n      <td>8.520</td>\n      <td>66.8800</td>\n      <td>125.240</td>\n      <td>183.6000</td>\n      <td>241.960</td>\n    </tr>\n    <tr>\n      <th>Wyoming</th>\n      <th>Cheyenne</th>\n      <td>1.0</td>\n      <td>1603.136000</td>\n      <td>NaN</td>\n      <td>1603.136</td>\n      <td>1603.1360</td>\n      <td>1603.136</td>\n      <td>1603.1360</td>\n      <td>1603.136</td>\n    </tr>\n  </tbody>\n</table>\n<p>604 rows × 8 columns</p>\n</div>"
     },
     "execution_count": 29,
     "metadata": {},
     "output_type": "execute_result"
    }
   ],
   "source": [
    "byStateCity = df.groupby(['State', 'City'])\n",
    "byStateCity.describe()['Sales']"
   ],
   "metadata": {
    "collapsed": false,
    "pycharm": {
     "name": "#%%\n"
    }
   }
  },
  {
   "cell_type": "code",
   "execution_count": null,
   "outputs": [],
   "source": [],
   "metadata": {
    "collapsed": false,
    "pycharm": {
     "name": "#%%\n"
    }
   }
  }
 ],
 "metadata": {
  "kernelspec": {
   "display_name": "Python 3",
   "language": "python",
   "name": "python3"
  },
  "language_info": {
   "codemirror_mode": {
    "name": "ipython",
    "version": 2
   },
   "file_extension": ".py",
   "mimetype": "text/x-python",
   "name": "python",
   "nbconvert_exporter": "python",
   "pygments_lexer": "ipython2",
   "version": "2.7.6"
  }
 },
 "nbformat": 4,
 "nbformat_minor": 0
}