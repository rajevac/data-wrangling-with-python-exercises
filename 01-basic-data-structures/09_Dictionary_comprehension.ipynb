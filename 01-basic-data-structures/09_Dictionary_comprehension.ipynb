{
 "cells": [
  {
   "cell_type": "code",
   "execution_count": 1,
   "metadata": {
    "collapsed": true
   },
   "outputs": [
    {
     "name": "stdout",
     "output_type": "stream",
     "text": [
      "{0: 0, 1: 1, 2: 4, 3: 9, 4: 16, 5: 25, 6: 36, 7: 49, 8: 64, 9: 81}\n"
     ]
    }
   ],
   "source": [
    "list_1 = [x for x in range(10)]\n",
    "dict_1 = {x: x**2 for x in list_1}\n",
    "print(dict_1)\n"
   ]
  },
  {
   "cell_type": "code",
   "execution_count": 3,
   "outputs": [
    {
     "name": "stdout",
     "output_type": "stream",
     "text": [
      "{'key_0': 0, 'key_1': 1, 'key_2': 4, 'key_3': 9, 'key_4': 16, 'key_5': 25, 'key_6': 36, 'key_7': 49, 'key_8': 64, 'key_9': 81}\n"
     ]
    }
   ],
   "source": [
    "list_1 = [x for x in range(10)]\n",
    "dict_1 = {f'key_{x}': x**2 for x in list_1}\n",
    "print(dict_1)"
   ],
   "metadata": {
    "collapsed": false,
    "pycharm": {
     "name": "#%%\n"
    }
   }
  },
  {
   "cell_type": "code",
   "execution_count": 4,
   "outputs": [
    {
     "name": "stdout",
     "output_type": "stream",
     "text": [
      "{'Tom': 100, 'Dick': 200, 'Harry': 300}\n"
     ]
    }
   ],
   "source": [
    "dict_2 = dict([('Tom', 100), ('Dick', 200), ('Harry', 300)])\n",
    "print(dict_2)"
   ],
   "metadata": {
    "collapsed": false,
    "pycharm": {
     "name": "#%%\n"
    }
   }
  },
  {
   "cell_type": "code",
   "execution_count": 7,
   "outputs": [
    {
     "name": "stdout",
     "output_type": "stream",
     "text": [
      "{'Tom': 100, 'Dick': 200, 'Harry': 300}\n"
     ]
    }
   ],
   "source": [
    "dict_3 = dict(Tom=100, Dick=200, Harry=300)\n",
    "print(dict_3)\n",
    "\n",
    "\n",
    "\n"
   ],
   "metadata": {
    "collapsed": false,
    "pycharm": {
     "name": "#%%\n"
    }
   }
  }
 ],
 "metadata": {
  "kernelspec": {
   "display_name": "Python 3",
   "language": "python",
   "name": "python3"
  },
  "language_info": {
   "codemirror_mode": {
    "name": "ipython",
    "version": 2
   },
   "file_extension": ".py",
   "mimetype": "text/x-python",
   "name": "python",
   "nbconvert_exporter": "python",
   "pygments_lexer": "ipython2",
   "version": "2.7.6"
  }
 },
 "nbformat": 4,
 "nbformat_minor": 0
}