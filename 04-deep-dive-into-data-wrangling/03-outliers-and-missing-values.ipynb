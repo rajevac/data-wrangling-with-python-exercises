{
 "cells": [
  {
   "cell_type": "code",
   "execution_count": 20,
   "metadata": {
    "collapsed": true
   },
   "outputs": [
    {
     "data": {
      "text/plain": "             Customer  Product     Sales  Quantity  Discount   Profit\n0     Brosina Hoffman      NaN  1706.184       9.0       0.2  85.3092\n1     Brosina Hoffman   Phones   911.424       4.0       0.2  68.3568\n2  Zuschuss Donatelli      Art     8.560       2.0       0.0   2.4824\n3  Zuschuss Donatelli   Phones       NaN       3.0       0.2  16.0110\n4  Zuschuss Donatelli  Binders    22.720       4.0       0.2   7.3840",
      "text/html": "<div>\n<style scoped>\n    .dataframe tbody tr th:only-of-type {\n        vertical-align: middle;\n    }\n\n    .dataframe tbody tr th {\n        vertical-align: top;\n    }\n\n    .dataframe thead th {\n        text-align: right;\n    }\n</style>\n<table border=\"1\" class=\"dataframe\">\n  <thead>\n    <tr style=\"text-align: right;\">\n      <th></th>\n      <th>Customer</th>\n      <th>Product</th>\n      <th>Sales</th>\n      <th>Quantity</th>\n      <th>Discount</th>\n      <th>Profit</th>\n    </tr>\n  </thead>\n  <tbody>\n    <tr>\n      <th>0</th>\n      <td>Brosina Hoffman</td>\n      <td>NaN</td>\n      <td>1706.184</td>\n      <td>9.0</td>\n      <td>0.2</td>\n      <td>85.3092</td>\n    </tr>\n    <tr>\n      <th>1</th>\n      <td>Brosina Hoffman</td>\n      <td>Phones</td>\n      <td>911.424</td>\n      <td>4.0</td>\n      <td>0.2</td>\n      <td>68.3568</td>\n    </tr>\n    <tr>\n      <th>2</th>\n      <td>Zuschuss Donatelli</td>\n      <td>Art</td>\n      <td>8.560</td>\n      <td>2.0</td>\n      <td>0.0</td>\n      <td>2.4824</td>\n    </tr>\n    <tr>\n      <th>3</th>\n      <td>Zuschuss Donatelli</td>\n      <td>Phones</td>\n      <td>NaN</td>\n      <td>3.0</td>\n      <td>0.2</td>\n      <td>16.0110</td>\n    </tr>\n    <tr>\n      <th>4</th>\n      <td>Zuschuss Donatelli</td>\n      <td>Binders</td>\n      <td>22.720</td>\n      <td>4.0</td>\n      <td>0.2</td>\n      <td>7.3840</td>\n    </tr>\n  </tbody>\n</table>\n</div>"
     },
     "execution_count": 20,
     "metadata": {},
     "output_type": "execute_result"
    }
   ],
   "source": [
    "import numpy as np\n",
    "import pandas as pd\n",
    "import matplotlib.pyplot as plt\n",
    "\n",
    "df_missing = pd.read_excel('Sample-Superstore.xls', sheet_name='Missing')\n",
    "df_missing.head()"
   ]
  },
  {
   "cell_type": "code",
   "execution_count": 10,
   "outputs": [
    {
     "data": {
      "text/plain": "(11, 6)"
     },
     "execution_count": 10,
     "metadata": {},
     "output_type": "execute_result"
    }
   ],
   "source": [
    "df_missing.shape"
   ],
   "metadata": {
    "collapsed": false,
    "pycharm": {
     "name": "#%%\n"
    }
   }
  },
  {
   "cell_type": "code",
   "execution_count": 11,
   "outputs": [
    {
     "data": {
      "text/plain": "    Customer  Product  Sales  Quantity  Discount  Profit\n0      False     True  False     False     False   False\n1      False    False  False     False     False   False\n2      False    False  False     False     False   False\n3      False    False   True     False     False   False\n4      False    False  False     False     False   False\n5      False    False  False      True     False   False\n6      False    False  False     False     False   False\n7      False     True  False     False     False    True\n8       True    False  False     False     False   False\n9      False    False  False     False     False   False\n10     False    False  False     False     False   False",
      "text/html": "<div>\n<style scoped>\n    .dataframe tbody tr th:only-of-type {\n        vertical-align: middle;\n    }\n\n    .dataframe tbody tr th {\n        vertical-align: top;\n    }\n\n    .dataframe thead th {\n        text-align: right;\n    }\n</style>\n<table border=\"1\" class=\"dataframe\">\n  <thead>\n    <tr style=\"text-align: right;\">\n      <th></th>\n      <th>Customer</th>\n      <th>Product</th>\n      <th>Sales</th>\n      <th>Quantity</th>\n      <th>Discount</th>\n      <th>Profit</th>\n    </tr>\n  </thead>\n  <tbody>\n    <tr>\n      <th>0</th>\n      <td>False</td>\n      <td>True</td>\n      <td>False</td>\n      <td>False</td>\n      <td>False</td>\n      <td>False</td>\n    </tr>\n    <tr>\n      <th>1</th>\n      <td>False</td>\n      <td>False</td>\n      <td>False</td>\n      <td>False</td>\n      <td>False</td>\n      <td>False</td>\n    </tr>\n    <tr>\n      <th>2</th>\n      <td>False</td>\n      <td>False</td>\n      <td>False</td>\n      <td>False</td>\n      <td>False</td>\n      <td>False</td>\n    </tr>\n    <tr>\n      <th>3</th>\n      <td>False</td>\n      <td>False</td>\n      <td>True</td>\n      <td>False</td>\n      <td>False</td>\n      <td>False</td>\n    </tr>\n    <tr>\n      <th>4</th>\n      <td>False</td>\n      <td>False</td>\n      <td>False</td>\n      <td>False</td>\n      <td>False</td>\n      <td>False</td>\n    </tr>\n    <tr>\n      <th>5</th>\n      <td>False</td>\n      <td>False</td>\n      <td>False</td>\n      <td>True</td>\n      <td>False</td>\n      <td>False</td>\n    </tr>\n    <tr>\n      <th>6</th>\n      <td>False</td>\n      <td>False</td>\n      <td>False</td>\n      <td>False</td>\n      <td>False</td>\n      <td>False</td>\n    </tr>\n    <tr>\n      <th>7</th>\n      <td>False</td>\n      <td>True</td>\n      <td>False</td>\n      <td>False</td>\n      <td>False</td>\n      <td>True</td>\n    </tr>\n    <tr>\n      <th>8</th>\n      <td>True</td>\n      <td>False</td>\n      <td>False</td>\n      <td>False</td>\n      <td>False</td>\n      <td>False</td>\n    </tr>\n    <tr>\n      <th>9</th>\n      <td>False</td>\n      <td>False</td>\n      <td>False</td>\n      <td>False</td>\n      <td>False</td>\n      <td>False</td>\n    </tr>\n    <tr>\n      <th>10</th>\n      <td>False</td>\n      <td>False</td>\n      <td>False</td>\n      <td>False</td>\n      <td>False</td>\n      <td>False</td>\n    </tr>\n  </tbody>\n</table>\n</div>"
     },
     "execution_count": 11,
     "metadata": {},
     "output_type": "execute_result"
    }
   ],
   "source": [
    "df_missing.isnull()\n"
   ],
   "metadata": {
    "collapsed": false,
    "pycharm": {
     "name": "#%%\n"
    }
   }
  },
  {
   "cell_type": "code",
   "execution_count": 12,
   "outputs": [
    {
     "name": "stdout",
     "output_type": "stream",
     "text": [
      "Customer has missing value 1\n",
      "Product has missing value 2\n",
      "Sales has missing value 1\n",
      "Quantity has missing value 1\n",
      "Discount has NO missing value\n",
      "Profit has missing value 1\n"
     ]
    }
   ],
   "source": [
    "for c in df_missing.columns:\n",
    "    miss = df_missing[c].isnull().sum()\n",
    "    if miss>0:\n",
    "        print(f'{c} has missing value {miss}')\n",
    "    else:\n",
    "        print(f'{c} has NO missing value')\n"
   ],
   "metadata": {
    "collapsed": false,
    "pycharm": {
     "name": "#%%\n"
    }
   }
  },
  {
   "cell_type": "code",
   "execution_count": 13,
   "outputs": [
    {
     "data": {
      "text/plain": "              Customer      Product     Sales Quantity  Discount   Profit\n0      Brosina Hoffman         FILL  1706.184      9.0       0.2  85.3092\n1      Brosina Hoffman       Phones   911.424      4.0       0.2  68.3568\n2   Zuschuss Donatelli          Art      8.56      2.0       0.0   2.4824\n3   Zuschuss Donatelli       Phones      FILL      3.0       0.2   16.011\n4   Zuschuss Donatelli      Binders     22.72      4.0       0.2    7.384\n5        Eric Hoffmann      Binders    11.648     FILL       0.2   4.2224\n6        Eric Hoffmann  Accessories     90.57      3.0       0.0  11.7741\n7         Ruben Ausman         FILL     77.88      2.0       0.0     FILL\n8                 FILL  Accessories     13.98      2.0       0.0   6.1512\n9         Kunst Miller      Binders    25.824      6.0       0.2   9.3612\n10        Kunst Miller        Paper    146.73      3.0       0.0  68.9631",
      "text/html": "<div>\n<style scoped>\n    .dataframe tbody tr th:only-of-type {\n        vertical-align: middle;\n    }\n\n    .dataframe tbody tr th {\n        vertical-align: top;\n    }\n\n    .dataframe thead th {\n        text-align: right;\n    }\n</style>\n<table border=\"1\" class=\"dataframe\">\n  <thead>\n    <tr style=\"text-align: right;\">\n      <th></th>\n      <th>Customer</th>\n      <th>Product</th>\n      <th>Sales</th>\n      <th>Quantity</th>\n      <th>Discount</th>\n      <th>Profit</th>\n    </tr>\n  </thead>\n  <tbody>\n    <tr>\n      <th>0</th>\n      <td>Brosina Hoffman</td>\n      <td>FILL</td>\n      <td>1706.184</td>\n      <td>9.0</td>\n      <td>0.2</td>\n      <td>85.3092</td>\n    </tr>\n    <tr>\n      <th>1</th>\n      <td>Brosina Hoffman</td>\n      <td>Phones</td>\n      <td>911.424</td>\n      <td>4.0</td>\n      <td>0.2</td>\n      <td>68.3568</td>\n    </tr>\n    <tr>\n      <th>2</th>\n      <td>Zuschuss Donatelli</td>\n      <td>Art</td>\n      <td>8.56</td>\n      <td>2.0</td>\n      <td>0.0</td>\n      <td>2.4824</td>\n    </tr>\n    <tr>\n      <th>3</th>\n      <td>Zuschuss Donatelli</td>\n      <td>Phones</td>\n      <td>FILL</td>\n      <td>3.0</td>\n      <td>0.2</td>\n      <td>16.011</td>\n    </tr>\n    <tr>\n      <th>4</th>\n      <td>Zuschuss Donatelli</td>\n      <td>Binders</td>\n      <td>22.72</td>\n      <td>4.0</td>\n      <td>0.2</td>\n      <td>7.384</td>\n    </tr>\n    <tr>\n      <th>5</th>\n      <td>Eric Hoffmann</td>\n      <td>Binders</td>\n      <td>11.648</td>\n      <td>FILL</td>\n      <td>0.2</td>\n      <td>4.2224</td>\n    </tr>\n    <tr>\n      <th>6</th>\n      <td>Eric Hoffmann</td>\n      <td>Accessories</td>\n      <td>90.57</td>\n      <td>3.0</td>\n      <td>0.0</td>\n      <td>11.7741</td>\n    </tr>\n    <tr>\n      <th>7</th>\n      <td>Ruben Ausman</td>\n      <td>FILL</td>\n      <td>77.88</td>\n      <td>2.0</td>\n      <td>0.0</td>\n      <td>FILL</td>\n    </tr>\n    <tr>\n      <th>8</th>\n      <td>FILL</td>\n      <td>Accessories</td>\n      <td>13.98</td>\n      <td>2.0</td>\n      <td>0.0</td>\n      <td>6.1512</td>\n    </tr>\n    <tr>\n      <th>9</th>\n      <td>Kunst Miller</td>\n      <td>Binders</td>\n      <td>25.824</td>\n      <td>6.0</td>\n      <td>0.2</td>\n      <td>9.3612</td>\n    </tr>\n    <tr>\n      <th>10</th>\n      <td>Kunst Miller</td>\n      <td>Paper</td>\n      <td>146.73</td>\n      <td>3.0</td>\n      <td>0.0</td>\n      <td>68.9631</td>\n    </tr>\n  </tbody>\n</table>\n</div>"
     },
     "execution_count": 13,
     "metadata": {},
     "output_type": "execute_result"
    }
   ],
   "source": [
    "df_missing.fillna('FILL')\n"
   ],
   "metadata": {
    "collapsed": false,
    "pycharm": {
     "name": "#%%\n"
    }
   }
  },
  {
   "cell_type": "code",
   "execution_count": 14,
   "outputs": [
    {
     "data": {
      "text/plain": "              Customer      Product\n0      Brosina Hoffman         FILL\n1      Brosina Hoffman       Phones\n2   Zuschuss Donatelli          Art\n3   Zuschuss Donatelli       Phones\n4   Zuschuss Donatelli      Binders\n5        Eric Hoffmann      Binders\n6        Eric Hoffmann  Accessories\n7         Ruben Ausman         FILL\n8                 FILL  Accessories\n9         Kunst Miller      Binders\n10        Kunst Miller        Paper",
      "text/html": "<div>\n<style scoped>\n    .dataframe tbody tr th:only-of-type {\n        vertical-align: middle;\n    }\n\n    .dataframe tbody tr th {\n        vertical-align: top;\n    }\n\n    .dataframe thead th {\n        text-align: right;\n    }\n</style>\n<table border=\"1\" class=\"dataframe\">\n  <thead>\n    <tr style=\"text-align: right;\">\n      <th></th>\n      <th>Customer</th>\n      <th>Product</th>\n    </tr>\n  </thead>\n  <tbody>\n    <tr>\n      <th>0</th>\n      <td>Brosina Hoffman</td>\n      <td>FILL</td>\n    </tr>\n    <tr>\n      <th>1</th>\n      <td>Brosina Hoffman</td>\n      <td>Phones</td>\n    </tr>\n    <tr>\n      <th>2</th>\n      <td>Zuschuss Donatelli</td>\n      <td>Art</td>\n    </tr>\n    <tr>\n      <th>3</th>\n      <td>Zuschuss Donatelli</td>\n      <td>Phones</td>\n    </tr>\n    <tr>\n      <th>4</th>\n      <td>Zuschuss Donatelli</td>\n      <td>Binders</td>\n    </tr>\n    <tr>\n      <th>5</th>\n      <td>Eric Hoffmann</td>\n      <td>Binders</td>\n    </tr>\n    <tr>\n      <th>6</th>\n      <td>Eric Hoffmann</td>\n      <td>Accessories</td>\n    </tr>\n    <tr>\n      <th>7</th>\n      <td>Ruben Ausman</td>\n      <td>FILL</td>\n    </tr>\n    <tr>\n      <th>8</th>\n      <td>FILL</td>\n      <td>Accessories</td>\n    </tr>\n    <tr>\n      <th>9</th>\n      <td>Kunst Miller</td>\n      <td>Binders</td>\n    </tr>\n    <tr>\n      <th>10</th>\n      <td>Kunst Miller</td>\n      <td>Paper</td>\n    </tr>\n  </tbody>\n</table>\n</div>"
     },
     "execution_count": 14,
     "metadata": {},
     "output_type": "execute_result"
    }
   ],
   "source": [
    "df_missing[['Customer', 'Product']].fillna('FILL')\n"
   ],
   "metadata": {
    "collapsed": false,
    "pycharm": {
     "name": "#%%\n"
    }
   }
  },
  {
   "cell_type": "code",
   "execution_count": 15,
   "outputs": [
    {
     "data": {
      "text/plain": "0     1706.184\n1      911.424\n2        8.560\n3        8.560\n4       22.720\n5       11.648\n6       90.570\n7       77.880\n8       13.980\n9       25.824\n10     146.730\nName: Sales, dtype: float64"
     },
     "execution_count": 15,
     "metadata": {},
     "output_type": "execute_result"
    }
   ],
   "source": [
    "df_missing['Sales'].fillna(method='ffill')"
   ],
   "metadata": {
    "collapsed": false,
    "pycharm": {
     "name": "#%%\n"
    }
   }
  },
  {
   "cell_type": "code",
   "execution_count": 16,
   "outputs": [
    {
     "data": {
      "text/plain": "0     1706.184\n1      911.424\n2        8.560\n3       22.720\n4       22.720\n5       11.648\n6       90.570\n7       77.880\n8       13.980\n9       25.824\n10     146.730\nName: Sales, dtype: float64"
     },
     "execution_count": 16,
     "metadata": {},
     "output_type": "execute_result"
    }
   ],
   "source": [
    "# Use backfill or bfill to fill backward,\n",
    "# that is, copy from the next data in the series\n",
    "df_missing['Sales'].fillna(method='bfill')\n"
   ],
   "metadata": {
    "collapsed": false,
    "pycharm": {
     "name": "#%%\n"
    }
   }
  },
  {
   "cell_type": "code",
   "execution_count": 17,
   "outputs": [
    {
     "data": {
      "text/plain": "              Customer      Product    Sales  Quantity  Discount   Profit\n1      Brosina Hoffman       Phones  911.424       4.0       0.2  68.3568\n2   Zuschuss Donatelli          Art    8.560       2.0       0.0   2.4824\n4   Zuschuss Donatelli      Binders   22.720       4.0       0.2   7.3840\n6        Eric Hoffmann  Accessories   90.570       3.0       0.0  11.7741\n9         Kunst Miller      Binders   25.824       6.0       0.2   9.3612\n10        Kunst Miller        Paper  146.730       3.0       0.0  68.9631",
      "text/html": "<div>\n<style scoped>\n    .dataframe tbody tr th:only-of-type {\n        vertical-align: middle;\n    }\n\n    .dataframe tbody tr th {\n        vertical-align: top;\n    }\n\n    .dataframe thead th {\n        text-align: right;\n    }\n</style>\n<table border=\"1\" class=\"dataframe\">\n  <thead>\n    <tr style=\"text-align: right;\">\n      <th></th>\n      <th>Customer</th>\n      <th>Product</th>\n      <th>Sales</th>\n      <th>Quantity</th>\n      <th>Discount</th>\n      <th>Profit</th>\n    </tr>\n  </thead>\n  <tbody>\n    <tr>\n      <th>1</th>\n      <td>Brosina Hoffman</td>\n      <td>Phones</td>\n      <td>911.424</td>\n      <td>4.0</td>\n      <td>0.2</td>\n      <td>68.3568</td>\n    </tr>\n    <tr>\n      <th>2</th>\n      <td>Zuschuss Donatelli</td>\n      <td>Art</td>\n      <td>8.560</td>\n      <td>2.0</td>\n      <td>0.0</td>\n      <td>2.4824</td>\n    </tr>\n    <tr>\n      <th>4</th>\n      <td>Zuschuss Donatelli</td>\n      <td>Binders</td>\n      <td>22.720</td>\n      <td>4.0</td>\n      <td>0.2</td>\n      <td>7.3840</td>\n    </tr>\n    <tr>\n      <th>6</th>\n      <td>Eric Hoffmann</td>\n      <td>Accessories</td>\n      <td>90.570</td>\n      <td>3.0</td>\n      <td>0.0</td>\n      <td>11.7741</td>\n    </tr>\n    <tr>\n      <th>9</th>\n      <td>Kunst Miller</td>\n      <td>Binders</td>\n      <td>25.824</td>\n      <td>6.0</td>\n      <td>0.2</td>\n      <td>9.3612</td>\n    </tr>\n    <tr>\n      <th>10</th>\n      <td>Kunst Miller</td>\n      <td>Paper</td>\n      <td>146.730</td>\n      <td>3.0</td>\n      <td>0.0</td>\n      <td>68.9631</td>\n    </tr>\n  </tbody>\n</table>\n</div>"
     },
     "execution_count": 17,
     "metadata": {},
     "output_type": "execute_result"
    }
   ],
   "source": [
    "# dropping missing values\n",
    "df_missing.dropna(axis=0)\n"
   ],
   "metadata": {
    "collapsed": false,
    "pycharm": {
     "name": "#%%\n"
    }
   }
  },
  {
   "cell_type": "code",
   "execution_count": 18,
   "outputs": [
    {
     "data": {
      "text/plain": "    Discount\n0        0.2\n1        0.2\n2        0.0\n3        0.2\n4        0.2\n5        0.2\n6        0.0\n7        0.0\n8        0.0\n9        0.2\n10       0.0",
      "text/html": "<div>\n<style scoped>\n    .dataframe tbody tr th:only-of-type {\n        vertical-align: middle;\n    }\n\n    .dataframe tbody tr th {\n        vertical-align: top;\n    }\n\n    .dataframe thead th {\n        text-align: right;\n    }\n</style>\n<table border=\"1\" class=\"dataframe\">\n  <thead>\n    <tr style=\"text-align: right;\">\n      <th></th>\n      <th>Discount</th>\n    </tr>\n  </thead>\n  <tbody>\n    <tr>\n      <th>0</th>\n      <td>0.2</td>\n    </tr>\n    <tr>\n      <th>1</th>\n      <td>0.2</td>\n    </tr>\n    <tr>\n      <th>2</th>\n      <td>0.0</td>\n    </tr>\n    <tr>\n      <th>3</th>\n      <td>0.2</td>\n    </tr>\n    <tr>\n      <th>4</th>\n      <td>0.2</td>\n    </tr>\n    <tr>\n      <th>5</th>\n      <td>0.2</td>\n    </tr>\n    <tr>\n      <th>6</th>\n      <td>0.0</td>\n    </tr>\n    <tr>\n      <th>7</th>\n      <td>0.0</td>\n    </tr>\n    <tr>\n      <th>8</th>\n      <td>0.0</td>\n    </tr>\n    <tr>\n      <th>9</th>\n      <td>0.2</td>\n    </tr>\n    <tr>\n      <th>10</th>\n      <td>0.0</td>\n    </tr>\n  </tbody>\n</table>\n</div>"
     },
     "execution_count": 18,
     "metadata": {},
     "output_type": "execute_result"
    }
   ],
   "source": [
    "df_missing.dropna(axis=1)\n"
   ],
   "metadata": {
    "collapsed": false,
    "pycharm": {
     "name": "#%%\n"
    }
   }
  },
  {
   "cell_type": "code",
   "execution_count": 19,
   "outputs": [
    {
     "data": {
      "text/plain": "              Customer     Sales  Quantity  Discount   Profit\n0      Brosina Hoffman  1706.184       9.0       0.2  85.3092\n1      Brosina Hoffman   911.424       4.0       0.2  68.3568\n2   Zuschuss Donatelli     8.560       2.0       0.0   2.4824\n3   Zuschuss Donatelli       NaN       3.0       0.2  16.0110\n4   Zuschuss Donatelli    22.720       4.0       0.2   7.3840\n5        Eric Hoffmann    11.648       NaN       0.2   4.2224\n6        Eric Hoffmann    90.570       3.0       0.0  11.7741\n7         Ruben Ausman    77.880       2.0       0.0      NaN\n8                  NaN    13.980       2.0       0.0   6.1512\n9         Kunst Miller    25.824       6.0       0.2   9.3612\n10        Kunst Miller   146.730       3.0       0.0  68.9631",
      "text/html": "<div>\n<style scoped>\n    .dataframe tbody tr th:only-of-type {\n        vertical-align: middle;\n    }\n\n    .dataframe tbody tr th {\n        vertical-align: top;\n    }\n\n    .dataframe thead th {\n        text-align: right;\n    }\n</style>\n<table border=\"1\" class=\"dataframe\">\n  <thead>\n    <tr style=\"text-align: right;\">\n      <th></th>\n      <th>Customer</th>\n      <th>Sales</th>\n      <th>Quantity</th>\n      <th>Discount</th>\n      <th>Profit</th>\n    </tr>\n  </thead>\n  <tbody>\n    <tr>\n      <th>0</th>\n      <td>Brosina Hoffman</td>\n      <td>1706.184</td>\n      <td>9.0</td>\n      <td>0.2</td>\n      <td>85.3092</td>\n    </tr>\n    <tr>\n      <th>1</th>\n      <td>Brosina Hoffman</td>\n      <td>911.424</td>\n      <td>4.0</td>\n      <td>0.2</td>\n      <td>68.3568</td>\n    </tr>\n    <tr>\n      <th>2</th>\n      <td>Zuschuss Donatelli</td>\n      <td>8.560</td>\n      <td>2.0</td>\n      <td>0.0</td>\n      <td>2.4824</td>\n    </tr>\n    <tr>\n      <th>3</th>\n      <td>Zuschuss Donatelli</td>\n      <td>NaN</td>\n      <td>3.0</td>\n      <td>0.2</td>\n      <td>16.0110</td>\n    </tr>\n    <tr>\n      <th>4</th>\n      <td>Zuschuss Donatelli</td>\n      <td>22.720</td>\n      <td>4.0</td>\n      <td>0.2</td>\n      <td>7.3840</td>\n    </tr>\n    <tr>\n      <th>5</th>\n      <td>Eric Hoffmann</td>\n      <td>11.648</td>\n      <td>NaN</td>\n      <td>0.2</td>\n      <td>4.2224</td>\n    </tr>\n    <tr>\n      <th>6</th>\n      <td>Eric Hoffmann</td>\n      <td>90.570</td>\n      <td>3.0</td>\n      <td>0.0</td>\n      <td>11.7741</td>\n    </tr>\n    <tr>\n      <th>7</th>\n      <td>Ruben Ausman</td>\n      <td>77.880</td>\n      <td>2.0</td>\n      <td>0.0</td>\n      <td>NaN</td>\n    </tr>\n    <tr>\n      <th>8</th>\n      <td>NaN</td>\n      <td>13.980</td>\n      <td>2.0</td>\n      <td>0.0</td>\n      <td>6.1512</td>\n    </tr>\n    <tr>\n      <th>9</th>\n      <td>Kunst Miller</td>\n      <td>25.824</td>\n      <td>6.0</td>\n      <td>0.2</td>\n      <td>9.3612</td>\n    </tr>\n    <tr>\n      <th>10</th>\n      <td>Kunst Miller</td>\n      <td>146.730</td>\n      <td>3.0</td>\n      <td>0.0</td>\n      <td>68.9631</td>\n    </tr>\n  </tbody>\n</table>\n</div>"
     },
     "execution_count": 19,
     "metadata": {},
     "output_type": "execute_result"
    }
   ],
   "source": [
    "df_missing.dropna(axis=1,thresh=10)\n"
   ],
   "metadata": {
    "collapsed": false,
    "pycharm": {
     "name": "#%%\n"
    }
   }
  },
  {
   "cell_type": "code",
   "execution_count": 21,
   "outputs": [
    {
     "name": "stderr",
     "output_type": "stream",
     "text": [
      "/Users/vladimirrajevac/opt/anaconda3/envs/deitel-intro-to-python-exrecises/lib/python3.8/site-packages/pandas/core/indexing.py:1637: SettingWithCopyWarning: \n",
      "A value is trying to be set on a copy of a slice from a DataFrame\n",
      "\n",
      "See the caveats in the documentation: https://pandas.pydata.org/pandas-docs/stable/user_guide/indexing.html#returning-a-view-versus-a-copy\n",
      "  self._setitem_single_block(indexer, value, name)\n"
     ]
    },
    {
     "data": {
      "text/plain": "<Figure size 432x288 with 1 Axes>",
      "image/png": "[encoded data removed]"
     },
     "metadata": {
      "needs_background": "light"
     },
     "output_type": "display_data"
    }
   ],
   "source": [
    "df_sample = df[['Customer Name','State','Sales','Profit']].sample(n=50).copy()\n",
    "df_sample['Sales'].iloc[5]=-1000.0\n",
    "df_sample['Sales'].iloc[15]=-500.0\n",
    "\n",
    "df_sample.plot.box()\n",
    "plt.title(\"Boxplot of sales and profit\", fontsize=15)\n",
    "plt.xticks(fontsize=15)\n",
    "plt.yticks(fontsize=15)\n",
    "plt.grid(True)\n"
   ],
   "metadata": {
    "collapsed": false,
    "pycharm": {
     "name": "#%%\n"
    }
   }
  },
  {
   "cell_type": "code",
   "execution_count": null,
   "outputs": [],
   "source": [],
   "metadata": {
    "collapsed": false,
    "pycharm": {
     "name": "#%%\n"
    }
   }
  }
 ],
 "metadata": {
  "kernelspec": {
   "display_name": "Python 3",
   "language": "python",
   "name": "python3"
  },
  "language_info": {
   "codemirror_mode": {
    "name": "ipython",
    "version": 2
   },
   "file_extension": ".py",
   "mimetype": "text/x-python",
   "name": "python",
   "nbconvert_exporter": "python",
   "pygments_lexer": "ipython2",
   "version": "2.7.6"
  }
 },
 "nbformat": 4,
 "nbformat_minor": 0
}