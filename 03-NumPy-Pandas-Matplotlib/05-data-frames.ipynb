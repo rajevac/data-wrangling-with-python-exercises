{
 "cells": [
  {
   "cell_type": "code",
   "execution_count": 1,
   "metadata": {
    "collapsed": true
   },
   "outputs": [
    {
     "name": "stdout",
     "output_type": "stream",
     "text": [
      "0    10\n",
      "1    20\n",
      "2    30\n",
      "dtype: int64\n"
     ]
    }
   ],
   "source": [
    "import pandas as pd\n",
    "import numpy as np\n",
    "\n",
    "labels = ['a','b','c']\n",
    "my_data = [10,20,30]\n",
    "a1 = np.array(my_data)\n",
    "d = {'a':10,'b':20,'c':30}\n",
    "\n",
    "s1 = pd.Series(my_data)\n",
    "print(s1)"
   ]
  },
  {
   "cell_type": "code",
   "execution_count": 2,
   "outputs": [
    {
     "name": "stdout",
     "output_type": "stream",
     "text": [
      "a    10\n",
      "b    20\n",
      "c    30\n",
      "dtype: int64\n"
     ]
    }
   ],
   "source": [
    "s2 = pd.Series(data=my_data, index=labels)\n",
    "print(s2)\n"
   ],
   "metadata": {
    "collapsed": false,
    "pycharm": {
     "name": "#%%\n"
    }
   }
  },
  {
   "cell_type": "code",
   "execution_count": 3,
   "outputs": [
    {
     "name": "stdout",
     "output_type": "stream",
     "text": [
      "a    10\n",
      "b    20\n",
      "c    30\n",
      "dtype: int64\n"
     ]
    }
   ],
   "source": [
    "s3 = pd.Series(a1,labels)\n",
    "print(s3)\n"
   ],
   "metadata": {
    "collapsed": false,
    "pycharm": {
     "name": "#%%\n"
    }
   }
  },
  {
   "cell_type": "code",
   "execution_count": 4,
   "outputs": [
    {
     "name": "stdout",
     "output_type": "stream",
     "text": [
      "a    10\n",
      "b    20\n",
      "c    30\n",
      "dtype: int64\n"
     ]
    }
   ],
   "source": [
    "s4  = pd.Series(d)\n",
    "print(s4)\n"
   ],
   "metadata": {
    "collapsed": false,
    "pycharm": {
     "name": "#%%\n"
    }
   }
  },
  {
   "cell_type": "code",
   "execution_count": 5,
   "outputs": [
    {
     "name": "stdout",
     "output_type": "stream",
     "text": [
      "   W  X  Y  Z\n",
      "A  3  6  3  2\n",
      "B  8  2  1  5\n",
      "C  5  5  5  7\n",
      "D  5  5  7  5\n",
      "E  8  6  8  3\n"
     ]
    }
   ],
   "source": [
    "matrix_data = np.random.randint(1,10,size=20).reshape(5,4)\n",
    "row_labels = ['A','B','C','D','E']\n",
    "column_headings = ['W','X','Y','Z']\n",
    "df = pd.DataFrame(data=matrix_data, index=row_labels,columns=column_headings)\n",
    "print(df)"
   ],
   "metadata": {
    "collapsed": false,
    "pycharm": {
     "name": "#%%\n"
    }
   }
  },
  {
   "cell_type": "code",
   "execution_count": 6,
   "outputs": [
    {
     "name": "stdout",
     "output_type": "stream",
     "text": [
      "    a   b   c\n",
      "X  10  30  50\n",
      "Y  20  40  60\n"
     ]
    }
   ],
   "source": [
    "d={'a':[10,20],'b':[30,40],'c':[50,60]}\n",
    "df2=pd.DataFrame(data=d,index=['X','Y'])\n",
    "\n",
    "print(df2)"
   ],
   "metadata": {
    "collapsed": false,
    "pycharm": {
     "name": "#%%\n"
    }
   }
  },
  {
   "cell_type": "code",
   "execution_count": 7,
   "outputs": [
    {
     "data": {
      "text/plain": "    a   b   c\nX  10  30  50\nY  20  40  60",
      "text/html": "<div>\n<style scoped>\n    .dataframe tbody tr th:only-of-type {\n        vertical-align: middle;\n    }\n\n    .dataframe tbody tr th {\n        vertical-align: top;\n    }\n\n    .dataframe thead th {\n        text-align: right;\n    }\n</style>\n<table border=\"1\" class=\"dataframe\">\n  <thead>\n    <tr style=\"text-align: right;\">\n      <th></th>\n      <th>a</th>\n      <th>b</th>\n      <th>c</th>\n    </tr>\n  </thead>\n  <tbody>\n    <tr>\n      <th>X</th>\n      <td>10</td>\n      <td>30</td>\n      <td>50</td>\n    </tr>\n    <tr>\n      <th>Y</th>\n      <td>20</td>\n      <td>40</td>\n      <td>60</td>\n    </tr>\n  </tbody>\n</table>\n</div>"
     },
     "execution_count": 7,
     "metadata": {},
     "output_type": "execute_result"
    }
   ],
   "source": [
    "df2.head()"
   ],
   "metadata": {
    "collapsed": false,
    "pycharm": {
     "name": "#%%\n"
    }
   }
  },
  {
   "cell_type": "code",
   "execution_count": 11,
   "outputs": [
    {
     "name": "stdout",
     "output_type": "stream",
     "text": [
      "Index(['W', 'X', 'Y', 'Z'], dtype='object')\n"
     ]
    }
   ],
   "source": [
    "print(df.columns)"
   ],
   "metadata": {
    "collapsed": false,
    "pycharm": {
     "name": "#%%\n"
    }
   }
  },
  {
   "cell_type": "code",
   "execution_count": 16,
   "outputs": [],
   "source": [
    "matrix_data = np.random.randint(1,100,100).reshape(25,4)\n",
    "column_headings = ['W','X','Y','Z']\n",
    "df = pd.DataFrame(data=matrix_data,columns=column_headings)"
   ],
   "metadata": {
    "collapsed": false,
    "pycharm": {
     "name": "#%%\n"
    }
   }
  },
  {
   "cell_type": "code",
   "execution_count": 18,
   "outputs": [
    {
     "name": "stdout",
     "output_type": "stream",
     "text": [
      "     X   Z\n",
      "0   93  98\n",
      "1   82  72\n",
      "2   11  97\n",
      "3   47  89\n",
      "4   20  56\n",
      "5   99  61\n",
      "6   65   2\n",
      "7   44  53\n",
      "8    2  53\n",
      "9   82  24\n",
      "10  63  21\n",
      "11  81  72\n",
      "12  94  59\n",
      "13  46   1\n",
      "14  73  70\n",
      "15  24  81\n",
      "16  37  71\n",
      "17  11  22\n",
      "18  12  10\n",
      "19  55  29\n",
      "20  59  81\n",
      "21  53  13\n",
      "22  97   5\n",
      "23  66  19\n",
      "24   7  12\n"
     ]
    }
   ],
   "source": [
    "print(df[['X', 'Z']])"
   ],
   "metadata": {
    "collapsed": false,
    "pycharm": {
     "name": "#%%\n"
    }
   }
  },
  {
   "cell_type": "code",
   "execution_count": 19,
   "outputs": [
    {
     "data": {
      "text/plain": "    W   X   Y   Z\n0  85  93  64  98\n1  63  82   1  72\n2  60  11  10  97\n3  49  47  15  89\n4  23  20  45  56",
      "text/html": "<div>\n<style scoped>\n    .dataframe tbody tr th:only-of-type {\n        vertical-align: middle;\n    }\n\n    .dataframe tbody tr th {\n        vertical-align: top;\n    }\n\n    .dataframe thead th {\n        text-align: right;\n    }\n</style>\n<table border=\"1\" class=\"dataframe\">\n  <thead>\n    <tr style=\"text-align: right;\">\n      <th></th>\n      <th>W</th>\n      <th>X</th>\n      <th>Y</th>\n      <th>Z</th>\n    </tr>\n  </thead>\n  <tbody>\n    <tr>\n      <th>0</th>\n      <td>85</td>\n      <td>93</td>\n      <td>64</td>\n      <td>98</td>\n    </tr>\n    <tr>\n      <th>1</th>\n      <td>63</td>\n      <td>82</td>\n      <td>1</td>\n      <td>72</td>\n    </tr>\n    <tr>\n      <th>2</th>\n      <td>60</td>\n      <td>11</td>\n      <td>10</td>\n      <td>97</td>\n    </tr>\n    <tr>\n      <th>3</th>\n      <td>49</td>\n      <td>47</td>\n      <td>15</td>\n      <td>89</td>\n    </tr>\n    <tr>\n      <th>4</th>\n      <td>23</td>\n      <td>20</td>\n      <td>45</td>\n      <td>56</td>\n    </tr>\n  </tbody>\n</table>\n</div>"
     },
     "execution_count": 19,
     "metadata": {},
     "output_type": "execute_result"
    }
   ],
   "source": [
    "df.head()"
   ],
   "metadata": {
    "collapsed": false,
    "pycharm": {
     "name": "#%%\n"
    }
   }
  },
  {
   "cell_type": "code",
   "execution_count": 22,
   "outputs": [
    {
     "data": {
      "text/plain": "    W   X   Y   Z\n0  85  93  64  98\n1  63  82   1  72",
      "text/html": "<div>\n<style scoped>\n    .dataframe tbody tr th:only-of-type {\n        vertical-align: middle;\n    }\n\n    .dataframe tbody tr th {\n        vertical-align: top;\n    }\n\n    .dataframe thead th {\n        text-align: right;\n    }\n</style>\n<table border=\"1\" class=\"dataframe\">\n  <thead>\n    <tr style=\"text-align: right;\">\n      <th></th>\n      <th>W</th>\n      <th>X</th>\n      <th>Y</th>\n      <th>Z</th>\n    </tr>\n  </thead>\n  <tbody>\n    <tr>\n      <th>0</th>\n      <td>85</td>\n      <td>93</td>\n      <td>64</td>\n      <td>98</td>\n    </tr>\n    <tr>\n      <th>1</th>\n      <td>63</td>\n      <td>82</td>\n      <td>1</td>\n      <td>72</td>\n    </tr>\n  </tbody>\n</table>\n</div>"
     },
     "execution_count": 22,
     "metadata": {},
     "output_type": "execute_result"
    }
   ],
   "source": [
    "df.iloc[0:2]"
   ],
   "metadata": {
    "collapsed": false,
    "pycharm": {
     "name": "#%%\n"
    }
   }
  },
  {
   "cell_type": "code",
   "execution_count": 24,
   "outputs": [
    {
     "data": {
      "text/plain": "    W   Z\n0  85  98\n1  63  72",
      "text/html": "<div>\n<style scoped>\n    .dataframe tbody tr th:only-of-type {\n        vertical-align: middle;\n    }\n\n    .dataframe tbody tr th {\n        vertical-align: top;\n    }\n\n    .dataframe thead th {\n        text-align: right;\n    }\n</style>\n<table border=\"1\" class=\"dataframe\">\n  <thead>\n    <tr style=\"text-align: right;\">\n      <th></th>\n      <th>W</th>\n      <th>Z</th>\n    </tr>\n  </thead>\n  <tbody>\n    <tr>\n      <th>0</th>\n      <td>85</td>\n      <td>98</td>\n    </tr>\n    <tr>\n      <th>1</th>\n      <td>63</td>\n      <td>72</td>\n    </tr>\n  </tbody>\n</table>\n</div>"
     },
     "execution_count": 24,
     "metadata": {},
     "output_type": "execute_result"
    }
   ],
   "source": [
    "df.iloc[0:2][['W', 'Z']]"
   ],
   "metadata": {
    "collapsed": false,
    "pycharm": {
     "name": "#%%\n"
    }
   }
  },
  {
   "cell_type": "code",
   "execution_count": 25,
   "outputs": [
    {
     "data": {
      "text/plain": "     W   Y   Z\n0   85  64  98\n1   63   1  72\n2   60  10  97\n3   49  15  89\n4   23  45  56\n5   77  52  61\n6   42  77   2\n7   16  51  53\n8   50  13  53\n9   10  96  24\n10  77   6  21\n11   3   2  72\n12   1  60  59\n13  93  72   1\n14  17  85  70\n15   5  12  81\n16  49  37  71\n17  42  27  22\n18  90  17  10\n19  45  26  29\n20  96  78  81\n21  15  97  13\n22   6  59   5\n23  27  21  19\n24  22  62  12",
      "text/html": "<div>\n<style scoped>\n    .dataframe tbody tr th:only-of-type {\n        vertical-align: middle;\n    }\n\n    .dataframe tbody tr th {\n        vertical-align: top;\n    }\n\n    .dataframe thead th {\n        text-align: right;\n    }\n</style>\n<table border=\"1\" class=\"dataframe\">\n  <thead>\n    <tr style=\"text-align: right;\">\n      <th></th>\n      <th>W</th>\n      <th>Y</th>\n      <th>Z</th>\n    </tr>\n  </thead>\n  <tbody>\n    <tr>\n      <th>0</th>\n      <td>85</td>\n      <td>64</td>\n      <td>98</td>\n    </tr>\n    <tr>\n      <th>1</th>\n      <td>63</td>\n      <td>1</td>\n      <td>72</td>\n    </tr>\n    <tr>\n      <th>2</th>\n      <td>60</td>\n      <td>10</td>\n      <td>97</td>\n    </tr>\n    <tr>\n      <th>3</th>\n      <td>49</td>\n      <td>15</td>\n      <td>89</td>\n    </tr>\n    <tr>\n      <th>4</th>\n      <td>23</td>\n      <td>45</td>\n      <td>56</td>\n    </tr>\n    <tr>\n      <th>5</th>\n      <td>77</td>\n      <td>52</td>\n      <td>61</td>\n    </tr>\n    <tr>\n      <th>6</th>\n      <td>42</td>\n      <td>77</td>\n      <td>2</td>\n    </tr>\n    <tr>\n      <th>7</th>\n      <td>16</td>\n      <td>51</td>\n      <td>53</td>\n    </tr>\n    <tr>\n      <th>8</th>\n      <td>50</td>\n      <td>13</td>\n      <td>53</td>\n    </tr>\n    <tr>\n      <th>9</th>\n      <td>10</td>\n      <td>96</td>\n      <td>24</td>\n    </tr>\n    <tr>\n      <th>10</th>\n      <td>77</td>\n      <td>6</td>\n      <td>21</td>\n    </tr>\n    <tr>\n      <th>11</th>\n      <td>3</td>\n      <td>2</td>\n      <td>72</td>\n    </tr>\n    <tr>\n      <th>12</th>\n      <td>1</td>\n      <td>60</td>\n      <td>59</td>\n    </tr>\n    <tr>\n      <th>13</th>\n      <td>93</td>\n      <td>72</td>\n      <td>1</td>\n    </tr>\n    <tr>\n      <th>14</th>\n      <td>17</td>\n      <td>85</td>\n      <td>70</td>\n    </tr>\n    <tr>\n      <th>15</th>\n      <td>5</td>\n      <td>12</td>\n      <td>81</td>\n    </tr>\n    <tr>\n      <th>16</th>\n      <td>49</td>\n      <td>37</td>\n      <td>71</td>\n    </tr>\n    <tr>\n      <th>17</th>\n      <td>42</td>\n      <td>27</td>\n      <td>22</td>\n    </tr>\n    <tr>\n      <th>18</th>\n      <td>90</td>\n      <td>17</td>\n      <td>10</td>\n    </tr>\n    <tr>\n      <th>19</th>\n      <td>45</td>\n      <td>26</td>\n      <td>29</td>\n    </tr>\n    <tr>\n      <th>20</th>\n      <td>96</td>\n      <td>78</td>\n      <td>81</td>\n    </tr>\n    <tr>\n      <th>21</th>\n      <td>15</td>\n      <td>97</td>\n      <td>13</td>\n    </tr>\n    <tr>\n      <th>22</th>\n      <td>6</td>\n      <td>59</td>\n      <td>5</td>\n    </tr>\n    <tr>\n      <th>23</th>\n      <td>27</td>\n      <td>21</td>\n      <td>19</td>\n    </tr>\n    <tr>\n      <th>24</th>\n      <td>22</td>\n      <td>62</td>\n      <td>12</td>\n    </tr>\n  </tbody>\n</table>\n</div>"
     },
     "execution_count": 25,
     "metadata": {},
     "output_type": "execute_result"
    }
   ],
   "source": [
    "df.drop('X', axis=1, inplace=True)\n",
    "df"
   ],
   "metadata": {
    "collapsed": false,
    "pycharm": {
     "name": "#%%\n"
    }
   }
  },
  {
   "cell_type": "code",
   "execution_count": null,
   "outputs": [],
   "source": [],
   "metadata": {
    "collapsed": false,
    "pycharm": {
     "name": "#%%\n"
    }
   }
  }
 ],
 "metadata": {
  "kernelspec": {
   "display_name": "Python 3",
   "language": "python",
   "name": "python3"
  },
  "language_info": {
   "codemirror_mode": {
    "name": "ipython",
    "version": 2
   },
   "file_extension": ".py",
   "mimetype": "text/x-python",
   "name": "python",
   "nbconvert_exporter": "python",
   "pygments_lexer": "ipython2",
   "version": "2.7.6"
  }
 },
 "nbformat": 4,
 "nbformat_minor": 0
}