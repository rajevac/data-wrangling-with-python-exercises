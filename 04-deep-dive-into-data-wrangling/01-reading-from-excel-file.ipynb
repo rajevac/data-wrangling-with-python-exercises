{
 "cells": [
  {
   "cell_type": "code",
   "execution_count": 13,
   "metadata": {
    "collapsed": true
   },
   "outputs": [
    {
     "data": {
      "text/plain": "   Row ID        Order ID Order Date  Ship Date       Ship Mode Customer ID  \\\n0       1  CA-2016-152156 2016-11-08 2016-11-11    Second Class    CG-12520   \n1       2  CA-2016-152156 2016-11-08 2016-11-11    Second Class    CG-12520   \n2       3  CA-2016-138688 2016-06-12 2016-06-16    Second Class    DV-13045   \n3       4  US-2015-108966 2015-10-11 2015-10-18  Standard Class    SO-20335   \n4       5  US-2015-108966 2015-10-11 2015-10-18  Standard Class    SO-20335   \n\n     Customer Name    Segment        Country             City  ...  \\\n0      Claire Gute   Consumer  United States        Henderson  ...   \n1      Claire Gute   Consumer  United States        Henderson  ...   \n2  Darrin Van Huff  Corporate  United States      Los Angeles  ...   \n3   Sean O'Donnell   Consumer  United States  Fort Lauderdale  ...   \n4   Sean O'Donnell   Consumer  United States  Fort Lauderdale  ...   \n\n  Postal Code  Region       Product ID         Category Sub-Category  \\\n0       42420   South  FUR-BO-10001798        Furniture    Bookcases   \n1       42420   South  FUR-CH-10000454        Furniture       Chairs   \n2       90036    West  OFF-LA-10000240  Office Supplies       Labels   \n3       33311   South  FUR-TA-10000577        Furniture       Tables   \n4       33311   South  OFF-ST-10000760  Office Supplies      Storage   \n\n                                        Product Name     Sales  Quantity  \\\n0                  Bush Somerset Collection Bookcase  261.9600         2   \n1  Hon Deluxe Fabric Upholstered Stacking Chairs,...  731.9400         3   \n2  Self-Adhesive Address Labels for Typewriters b...   14.6200         2   \n3      Bretford CR4500 Series Slim Rectangular Table  957.5775         5   \n4                     Eldon Fold 'N Roll Cart System   22.3680         2   \n\n   Discount    Profit  \n0      0.00   41.9136  \n1      0.00  219.5820  \n2      0.00    6.8714  \n3      0.45 -383.0310  \n4      0.20    2.5164  \n\n[5 rows x 21 columns]",
      "text/html": "<div>\n<style scoped>\n    .dataframe tbody tr th:only-of-type {\n        vertical-align: middle;\n    }\n\n    .dataframe tbody tr th {\n        vertical-align: top;\n    }\n\n    .dataframe thead th {\n        text-align: right;\n    }\n</style>\n<table border=\"1\" class=\"dataframe\">\n  <thead>\n    <tr style=\"text-align: right;\">\n      <th></th>\n      <th>Row ID</th>\n      <th>Order ID</th>\n      <th>Order Date</th>\n      <th>Ship Date</th>\n      <th>Ship Mode</th>\n      <th>Customer ID</th>\n      <th>Customer Name</th>\n      <th>Segment</th>\n      <th>Country</th>\n      <th>City</th>\n      <th>...</th>\n      <th>Postal Code</th>\n      <th>Region</th>\n      <th>Product ID</th>\n      <th>Category</th>\n      <th>Sub-Category</th>\n      <th>Product Name</th>\n      <th>Sales</th>\n      <th>Quantity</th>\n      <th>Discount</th>\n      <th>Profit</th>\n    </tr>\n  </thead>\n  <tbody>\n    <tr>\n      <th>0</th>\n      <td>1</td>\n      <td>CA-2016-152156</td>\n      <td>2016-11-08</td>\n      <td>2016-11-11</td>\n      <td>Second Class</td>\n      <td>CG-12520</td>\n      <td>Claire Gute</td>\n      <td>Consumer</td>\n      <td>United States</td>\n      <td>Henderson</td>\n      <td>...</td>\n      <td>42420</td>\n      <td>South</td>\n      <td>FUR-BO-10001798</td>\n      <td>Furniture</td>\n      <td>Bookcases</td>\n      <td>Bush Somerset Collection Bookcase</td>\n      <td>261.9600</td>\n      <td>2</td>\n      <td>0.00</td>\n      <td>41.9136</td>\n    </tr>\n    <tr>\n      <th>1</th>\n      <td>2</td>\n      <td>CA-2016-152156</td>\n      <td>2016-11-08</td>\n      <td>2016-11-11</td>\n      <td>Second Class</td>\n      <td>CG-12520</td>\n      <td>Claire Gute</td>\n      <td>Consumer</td>\n      <td>United States</td>\n      <td>Henderson</td>\n      <td>...</td>\n      <td>42420</td>\n      <td>South</td>\n      <td>FUR-CH-10000454</td>\n      <td>Furniture</td>\n      <td>Chairs</td>\n      <td>Hon Deluxe Fabric Upholstered Stacking Chairs,...</td>\n      <td>731.9400</td>\n      <td>3</td>\n      <td>0.00</td>\n      <td>219.5820</td>\n    </tr>\n    <tr>\n      <th>2</th>\n      <td>3</td>\n      <td>CA-2016-138688</td>\n      <td>2016-06-12</td>\n      <td>2016-06-16</td>\n      <td>Second Class</td>\n      <td>DV-13045</td>\n      <td>Darrin Van Huff</td>\n      <td>Corporate</td>\n      <td>United States</td>\n      <td>Los Angeles</td>\n      <td>...</td>\n      <td>90036</td>\n      <td>West</td>\n      <td>OFF-LA-10000240</td>\n      <td>Office Supplies</td>\n      <td>Labels</td>\n      <td>Self-Adhesive Address Labels for Typewriters b...</td>\n      <td>14.6200</td>\n      <td>2</td>\n      <td>0.00</td>\n      <td>6.8714</td>\n    </tr>\n    <tr>\n      <th>3</th>\n      <td>4</td>\n      <td>US-2015-108966</td>\n      <td>2015-10-11</td>\n      <td>2015-10-18</td>\n      <td>Standard Class</td>\n      <td>SO-20335</td>\n      <td>Sean O'Donnell</td>\n      <td>Consumer</td>\n      <td>United States</td>\n      <td>Fort Lauderdale</td>\n      <td>...</td>\n      <td>33311</td>\n      <td>South</td>\n      <td>FUR-TA-10000577</td>\n      <td>Furniture</td>\n      <td>Tables</td>\n      <td>Bretford CR4500 Series Slim Rectangular Table</td>\n      <td>957.5775</td>\n      <td>5</td>\n      <td>0.45</td>\n      <td>-383.0310</td>\n    </tr>\n    <tr>\n      <th>4</th>\n      <td>5</td>\n      <td>US-2015-108966</td>\n      <td>2015-10-11</td>\n      <td>2015-10-18</td>\n      <td>Standard Class</td>\n      <td>SO-20335</td>\n      <td>Sean O'Donnell</td>\n      <td>Consumer</td>\n      <td>United States</td>\n      <td>Fort Lauderdale</td>\n      <td>...</td>\n      <td>33311</td>\n      <td>South</td>\n      <td>OFF-ST-10000760</td>\n      <td>Office Supplies</td>\n      <td>Storage</td>\n      <td>Eldon Fold 'N Roll Cart System</td>\n      <td>22.3680</td>\n      <td>2</td>\n      <td>0.20</td>\n      <td>2.5164</td>\n    </tr>\n  </tbody>\n</table>\n<p>5 rows × 21 columns</p>\n</div>"
     },
     "execution_count": 13,
     "metadata": {},
     "output_type": "execute_result"
    }
   ],
   "source": [
    "import pandas as pd\n",
    "import numpy as np\n",
    "import matplotlib.pyplot as plt\n",
    "\n",
    "df = pd.read_excel('Sample-Superstore.xls')\n",
    "df.head()\n"
   ]
  },
  {
   "cell_type": "code",
   "execution_count": 14,
   "outputs": [
    {
     "name": "stdout",
     "output_type": "stream",
     "text": [
      "Row ID\n",
      "Order ID\n",
      "Order Date\n",
      "Ship Date\n",
      "Ship Mode\n",
      "Customer ID\n",
      "Customer Name\n",
      "Segment\n",
      "Country\n",
      "City\n",
      "State\n",
      "Postal Code\n",
      "Region\n",
      "Product ID\n",
      "Category\n",
      "Sub-Category\n",
      "Product Name\n",
      "Sales\n",
      "Quantity\n",
      "Discount\n",
      "Profit\n"
     ]
    }
   ],
   "source": [
    "for column in df.columns:\n",
    "    print(column)\n"
   ],
   "metadata": {
    "collapsed": false,
    "pycharm": {
     "name": "#%%\n"
    }
   }
  },
  {
   "cell_type": "code",
   "execution_count": 15,
   "outputs": [
    {
     "data": {
      "text/plain": "            Row ID   Postal Code         Sales     Quantity     Discount  \\\ncount  9994.000000   9994.000000   9994.000000  9994.000000  9994.000000   \nmean   4997.500000  55190.379428    229.858001     3.789574     0.156203   \nstd    2885.163629  32063.693350    623.245101     2.225110     0.206452   \nmin       1.000000   1040.000000      0.444000     1.000000     0.000000   \n25%    2499.250000  23223.000000     17.280000     2.000000     0.000000   \n50%    4997.500000  56430.500000     54.490000     3.000000     0.200000   \n75%    7495.750000  90008.000000    209.940000     5.000000     0.200000   \nmax    9994.000000  99301.000000  22638.480000    14.000000     0.800000   \n\n            Profit  \ncount  9994.000000  \nmean     28.656896  \nstd     234.260108  \nmin   -6599.978000  \n25%       1.728750  \n50%       8.666500  \n75%      29.364000  \nmax    8399.976000  ",
      "text/html": "<div>\n<style scoped>\n    .dataframe tbody tr th:only-of-type {\n        vertical-align: middle;\n    }\n\n    .dataframe tbody tr th {\n        vertical-align: top;\n    }\n\n    .dataframe thead th {\n        text-align: right;\n    }\n</style>\n<table border=\"1\" class=\"dataframe\">\n  <thead>\n    <tr style=\"text-align: right;\">\n      <th></th>\n      <th>Row ID</th>\n      <th>Postal Code</th>\n      <th>Sales</th>\n      <th>Quantity</th>\n      <th>Discount</th>\n      <th>Profit</th>\n    </tr>\n  </thead>\n  <tbody>\n    <tr>\n      <th>count</th>\n      <td>9994.000000</td>\n      <td>9994.000000</td>\n      <td>9994.000000</td>\n      <td>9994.000000</td>\n      <td>9994.000000</td>\n      <td>9994.000000</td>\n    </tr>\n    <tr>\n      <th>mean</th>\n      <td>4997.500000</td>\n      <td>55190.379428</td>\n      <td>229.858001</td>\n      <td>3.789574</td>\n      <td>0.156203</td>\n      <td>28.656896</td>\n    </tr>\n    <tr>\n      <th>std</th>\n      <td>2885.163629</td>\n      <td>32063.693350</td>\n      <td>623.245101</td>\n      <td>2.225110</td>\n      <td>0.206452</td>\n      <td>234.260108</td>\n    </tr>\n    <tr>\n      <th>min</th>\n      <td>1.000000</td>\n      <td>1040.000000</td>\n      <td>0.444000</td>\n      <td>1.000000</td>\n      <td>0.000000</td>\n      <td>-6599.978000</td>\n    </tr>\n    <tr>\n      <th>25%</th>\n      <td>2499.250000</td>\n      <td>23223.000000</td>\n      <td>17.280000</td>\n      <td>2.000000</td>\n      <td>0.000000</td>\n      <td>1.728750</td>\n    </tr>\n    <tr>\n      <th>50%</th>\n      <td>4997.500000</td>\n      <td>56430.500000</td>\n      <td>54.490000</td>\n      <td>3.000000</td>\n      <td>0.200000</td>\n      <td>8.666500</td>\n    </tr>\n    <tr>\n      <th>75%</th>\n      <td>7495.750000</td>\n      <td>90008.000000</td>\n      <td>209.940000</td>\n      <td>5.000000</td>\n      <td>0.200000</td>\n      <td>29.364000</td>\n    </tr>\n    <tr>\n      <th>max</th>\n      <td>9994.000000</td>\n      <td>99301.000000</td>\n      <td>22638.480000</td>\n      <td>14.000000</td>\n      <td>0.800000</td>\n      <td>8399.976000</td>\n    </tr>\n  </tbody>\n</table>\n</div>"
     },
     "execution_count": 15,
     "metadata": {},
     "output_type": "execute_result"
    }
   ],
   "source": [
    "df.describe()\n"
   ],
   "metadata": {
    "collapsed": false,
    "pycharm": {
     "name": "#%%\n"
    }
   }
  },
  {
   "cell_type": "code",
   "execution_count": 16,
   "outputs": [
    {
     "data": {
      "text/plain": "<bound method DataFrame.info of       Row ID        Order ID Order Date  Ship Date       Ship Mode  \\\n0          1  CA-2016-152156 2016-11-08 2016-11-11    Second Class   \n1          2  CA-2016-152156 2016-11-08 2016-11-11    Second Class   \n2          3  CA-2016-138688 2016-06-12 2016-06-16    Second Class   \n3          4  US-2015-108966 2015-10-11 2015-10-18  Standard Class   \n4          5  US-2015-108966 2015-10-11 2015-10-18  Standard Class   \n...      ...             ...        ...        ...             ...   \n9989    9990  CA-2014-110422 2014-01-21 2014-01-23    Second Class   \n9990    9991  CA-2017-121258 2017-02-26 2017-03-03  Standard Class   \n9991    9992  CA-2017-121258 2017-02-26 2017-03-03  Standard Class   \n9992    9993  CA-2017-121258 2017-02-26 2017-03-03  Standard Class   \n9993    9994  CA-2017-119914 2017-05-04 2017-05-09    Second Class   \n\n     Customer ID     Customer Name    Segment        Country             City  \\\n0       CG-12520       Claire Gute   Consumer  United States        Henderson   \n1       CG-12520       Claire Gute   Consumer  United States        Henderson   \n2       DV-13045   Darrin Van Huff  Corporate  United States      Los Angeles   \n3       SO-20335    Sean O'Donnell   Consumer  United States  Fort Lauderdale   \n4       SO-20335    Sean O'Donnell   Consumer  United States  Fort Lauderdale   \n...          ...               ...        ...            ...              ...   \n9989    TB-21400  Tom Boeckenhauer   Consumer  United States            Miami   \n9990    DB-13060       Dave Brooks   Consumer  United States       Costa Mesa   \n9991    DB-13060       Dave Brooks   Consumer  United States       Costa Mesa   \n9992    DB-13060       Dave Brooks   Consumer  United States       Costa Mesa   \n9993    CC-12220      Chris Cortes   Consumer  United States      Westminster   \n\n      ... Postal Code  Region       Product ID         Category Sub-Category  \\\n0     ...       42420   South  FUR-BO-10001798        Furniture    Bookcases   \n1     ...       42420   South  FUR-CH-10000454        Furniture       Chairs   \n2     ...       90036    West  OFF-LA-10000240  Office Supplies       Labels   \n3     ...       33311   South  FUR-TA-10000577        Furniture       Tables   \n4     ...       33311   South  OFF-ST-10000760  Office Supplies      Storage   \n...   ...         ...     ...              ...              ...          ...   \n9989  ...       33180   South  FUR-FU-10001889        Furniture  Furnishings   \n9990  ...       92627    West  FUR-FU-10000747        Furniture  Furnishings   \n9991  ...       92627    West  TEC-PH-10003645       Technology       Phones   \n9992  ...       92627    West  OFF-PA-10004041  Office Supplies        Paper   \n9993  ...       92683    West  OFF-AP-10002684  Office Supplies   Appliances   \n\n                                           Product Name     Sales  Quantity  \\\n0                     Bush Somerset Collection Bookcase  261.9600         2   \n1     Hon Deluxe Fabric Upholstered Stacking Chairs,...  731.9400         3   \n2     Self-Adhesive Address Labels for Typewriters b...   14.6200         2   \n3         Bretford CR4500 Series Slim Rectangular Table  957.5775         5   \n4                        Eldon Fold 'N Roll Cart System   22.3680         2   \n...                                                 ...       ...       ...   \n9989                             Ultra Door Pull Handle   25.2480         3   \n9990  Tenex B1-RE Series Chair Mats for Low Pile Car...   91.9600         2   \n9991                              Aastra 57i VoIP phone  258.5760         2   \n9992  It's Hot Message Books with Stickers, 2 3/4\" x 5\"   29.6000         4   \n9993  Acco 7-Outlet Masterpiece Power Center, Wihtou...  243.1600         2   \n\n      Discount    Profit  \n0         0.00   41.9136  \n1         0.00  219.5820  \n2         0.00    6.8714  \n3         0.45 -383.0310  \n4         0.20    2.5164  \n...        ...       ...  \n9989      0.20    4.1028  \n9990      0.00   15.6332  \n9991      0.20   19.3932  \n9992      0.00   13.3200  \n9993      0.00   72.9480  \n\n[9994 rows x 21 columns]>"
     },
     "execution_count": 16,
     "metadata": {},
     "output_type": "execute_result"
    }
   ],
   "source": [
    "df.info\n"
   ],
   "metadata": {
    "collapsed": false,
    "pycharm": {
     "name": "#%%\n"
    }
   }
  },
  {
   "cell_type": "code",
   "execution_count": 17,
   "outputs": [
    {
     "data": {
      "text/plain": "(9994, 20)"
     },
     "execution_count": 17,
     "metadata": {},
     "output_type": "execute_result"
    }
   ],
   "source": [
    "df.drop('Row ID', axis=1, inplace=True)\n",
    "df.shape\n"
   ],
   "metadata": {
    "collapsed": false,
    "pycharm": {
     "name": "#%%\n"
    }
   }
  },
  {
   "cell_type": "code",
   "execution_count": 18,
   "outputs": [
    {
     "data": {
      "text/plain": "  Customer ID    Customer Name         City  Postal Code    Sales\n5    BH-11710  Brosina Hoffman  Los Angeles        90032   48.860\n6    BH-11710  Brosina Hoffman  Los Angeles        90032    7.280\n7    BH-11710  Brosina Hoffman  Los Angeles        90032  907.152\n8    BH-11710  Brosina Hoffman  Los Angeles        90032   18.504\n9    BH-11710  Brosina Hoffman  Los Angeles        90032  114.900",
      "text/html": "<div>\n<style scoped>\n    .dataframe tbody tr th:only-of-type {\n        vertical-align: middle;\n    }\n\n    .dataframe tbody tr th {\n        vertical-align: top;\n    }\n\n    .dataframe thead th {\n        text-align: right;\n    }\n</style>\n<table border=\"1\" class=\"dataframe\">\n  <thead>\n    <tr style=\"text-align: right;\">\n      <th></th>\n      <th>Customer ID</th>\n      <th>Customer Name</th>\n      <th>City</th>\n      <th>Postal Code</th>\n      <th>Sales</th>\n    </tr>\n  </thead>\n  <tbody>\n    <tr>\n      <th>5</th>\n      <td>BH-11710</td>\n      <td>Brosina Hoffman</td>\n      <td>Los Angeles</td>\n      <td>90032</td>\n      <td>48.860</td>\n    </tr>\n    <tr>\n      <th>6</th>\n      <td>BH-11710</td>\n      <td>Brosina Hoffman</td>\n      <td>Los Angeles</td>\n      <td>90032</td>\n      <td>7.280</td>\n    </tr>\n    <tr>\n      <th>7</th>\n      <td>BH-11710</td>\n      <td>Brosina Hoffman</td>\n      <td>Los Angeles</td>\n      <td>90032</td>\n      <td>907.152</td>\n    </tr>\n    <tr>\n      <th>8</th>\n      <td>BH-11710</td>\n      <td>Brosina Hoffman</td>\n      <td>Los Angeles</td>\n      <td>90032</td>\n      <td>18.504</td>\n    </tr>\n    <tr>\n      <th>9</th>\n      <td>BH-11710</td>\n      <td>Brosina Hoffman</td>\n      <td>Los Angeles</td>\n      <td>90032</td>\n      <td>114.900</td>\n    </tr>\n  </tbody>\n</table>\n</div>"
     },
     "execution_count": 18,
     "metadata": {},
     "output_type": "execute_result"
    }
   ],
   "source": [
    "df_subset = df.loc[[i for i in range(5,10)],\n",
    "                   ['Customer ID', 'Customer Name', 'City',\n",
    "                    'Postal Code', 'Sales']]\n",
    "df_subset\n"
   ],
   "metadata": {
    "collapsed": false,
    "pycharm": {
     "name": "#%%\n"
    }
   }
  },
  {
   "cell_type": "code",
   "execution_count": 22,
   "outputs": [
    {
     "data": {
      "text/plain": "             Sales       Profit\ncount   100.000000   100.000000\nmean    262.957220     0.347574\nstd     858.983762   170.744869\nmin       1.788000 -1359.992000\n25%      21.327000     1.635900\n50%      66.960000     9.653600\n75%     177.095000    23.458800\nmax    8159.952000   585.552000",
      "text/html": "<div>\n<style scoped>\n    .dataframe tbody tr th:only-of-type {\n        vertical-align: middle;\n    }\n\n    .dataframe tbody tr th {\n        vertical-align: top;\n    }\n\n    .dataframe thead th {\n        text-align: right;\n    }\n</style>\n<table border=\"1\" class=\"dataframe\">\n  <thead>\n    <tr style=\"text-align: right;\">\n      <th></th>\n      <th>Sales</th>\n      <th>Profit</th>\n    </tr>\n  </thead>\n  <tbody>\n    <tr>\n      <th>count</th>\n      <td>100.000000</td>\n      <td>100.000000</td>\n    </tr>\n    <tr>\n      <th>mean</th>\n      <td>262.957220</td>\n      <td>0.347574</td>\n    </tr>\n    <tr>\n      <th>std</th>\n      <td>858.983762</td>\n      <td>170.744869</td>\n    </tr>\n    <tr>\n      <th>min</th>\n      <td>1.788000</td>\n      <td>-1359.992000</td>\n    </tr>\n    <tr>\n      <th>25%</th>\n      <td>21.327000</td>\n      <td>1.635900</td>\n    </tr>\n    <tr>\n      <th>50%</th>\n      <td>66.960000</td>\n      <td>9.653600</td>\n    </tr>\n    <tr>\n      <th>75%</th>\n      <td>177.095000</td>\n      <td>23.458800</td>\n    </tr>\n    <tr>\n      <th>max</th>\n      <td>8159.952000</td>\n      <td>585.552000</td>\n    </tr>\n  </tbody>\n</table>\n</div>"
     },
     "execution_count": 22,
     "metadata": {},
     "output_type": "execute_result"
    }
   ],
   "source": [
    "df_subset = df.loc[[i for i in range(100, 200)], ['Sales', 'Profit']]\n",
    "df_subset.describe()"
   ],
   "metadata": {
    "collapsed": false,
    "pycharm": {
     "name": "#%%\n"
    }
   }
  },
  {
   "cell_type": "code",
   "execution_count": 28,
   "outputs": [
    {
     "data": {
      "text/plain": "array(['Kentucky', 'California', 'Florida', 'North Carolina',\n       'Washington', 'Texas', 'Wisconsin', 'Utah', 'Nebraska',\n       'Pennsylvania', 'Illinois', 'Minnesota', 'Michigan', 'Delaware',\n       'Indiana', 'New York', 'Arizona', 'Virginia', 'Tennessee',\n       'Alabama', 'South Carolina', 'Oregon', 'Colorado', 'Iowa', 'Ohio',\n       'Missouri', 'Oklahoma', 'New Mexico', 'Louisiana', 'Connecticut',\n       'New Jersey', 'Massachusetts', 'Georgia', 'Nevada', 'Rhode Island',\n       'Mississippi', 'Arkansas', 'Montana', 'New Hampshire', 'Maryland',\n       'District of Columbia', 'Kansas', 'Vermont', 'Maine',\n       'South Dakota', 'Idaho', 'North Dakota', 'Wyoming',\n       'West Virginia'], dtype=object)"
     },
     "execution_count": 28,
     "metadata": {},
     "output_type": "execute_result"
    }
   ],
   "source": [
    "df['State'].unique()"
   ],
   "metadata": {
    "collapsed": false,
    "pycharm": {
     "name": "#%%\n"
    }
   }
  },
  {
   "cell_type": "code",
   "execution_count": 29,
   "outputs": [
    {
     "data": {
      "text/plain": "49"
     },
     "execution_count": 29,
     "metadata": {},
     "output_type": "execute_result"
    }
   ],
   "source": [
    "df['State'].nunique() #couint non unique values"
   ],
   "metadata": {
    "collapsed": false,
    "pycharm": {
     "name": "#%%\n"
    }
   }
  },
  {
   "cell_type": "code",
   "execution_count": 32,
   "outputs": [
    {
     "data": {
      "text/plain": "49"
     },
     "execution_count": 32,
     "metadata": {},
     "output_type": "execute_result"
    }
   ],
   "source": [
    "df['State'].unique().size\n"
   ],
   "metadata": {
    "collapsed": false,
    "pycharm": {
     "name": "#%%\n"
    }
   }
  },
  {
   "cell_type": "code",
   "execution_count": 33,
   "outputs": [
    {
     "data": {
      "text/plain": "        Ship Mode       State     Sales\n0    Second Class    Kentucky  261.9600\n1    Second Class    Kentucky  731.9400\n2    Second Class  California   14.6200\n3  Standard Class     Florida  957.5775\n4  Standard Class     Florida   22.3680\n5  Standard Class  California   48.8600\n6  Standard Class  California    7.2800\n7  Standard Class  California  907.1520\n8  Standard Class  California   18.5040\n9  Standard Class  California  114.9000",
      "text/html": "<div>\n<style scoped>\n    .dataframe tbody tr th:only-of-type {\n        vertical-align: middle;\n    }\n\n    .dataframe tbody tr th {\n        vertical-align: top;\n    }\n\n    .dataframe thead th {\n        text-align: right;\n    }\n</style>\n<table border=\"1\" class=\"dataframe\">\n  <thead>\n    <tr style=\"text-align: right;\">\n      <th></th>\n      <th>Ship Mode</th>\n      <th>State</th>\n      <th>Sales</th>\n    </tr>\n  </thead>\n  <tbody>\n    <tr>\n      <th>0</th>\n      <td>Second Class</td>\n      <td>Kentucky</td>\n      <td>261.9600</td>\n    </tr>\n    <tr>\n      <th>1</th>\n      <td>Second Class</td>\n      <td>Kentucky</td>\n      <td>731.9400</td>\n    </tr>\n    <tr>\n      <th>2</th>\n      <td>Second Class</td>\n      <td>California</td>\n      <td>14.6200</td>\n    </tr>\n    <tr>\n      <th>3</th>\n      <td>Standard Class</td>\n      <td>Florida</td>\n      <td>957.5775</td>\n    </tr>\n    <tr>\n      <th>4</th>\n      <td>Standard Class</td>\n      <td>Florida</td>\n      <td>22.3680</td>\n    </tr>\n    <tr>\n      <th>5</th>\n      <td>Standard Class</td>\n      <td>California</td>\n      <td>48.8600</td>\n    </tr>\n    <tr>\n      <th>6</th>\n      <td>Standard Class</td>\n      <td>California</td>\n      <td>7.2800</td>\n    </tr>\n    <tr>\n      <th>7</th>\n      <td>Standard Class</td>\n      <td>California</td>\n      <td>907.1520</td>\n    </tr>\n    <tr>\n      <th>8</th>\n      <td>Standard Class</td>\n      <td>California</td>\n      <td>18.5040</td>\n    </tr>\n    <tr>\n      <th>9</th>\n      <td>Standard Class</td>\n      <td>California</td>\n      <td>114.9000</td>\n    </tr>\n  </tbody>\n</table>\n</div>"
     },
     "execution_count": 33,
     "metadata": {},
     "output_type": "execute_result"
    }
   ],
   "source": [
    "df_subset = df.loc[[i for i in range(10)], ['Ship Mode', 'State', 'Sales']]\n",
    "df_subset\n"
   ],
   "metadata": {
    "collapsed": false,
    "pycharm": {
     "name": "#%%\n"
    }
   }
  },
  {
   "cell_type": "code",
   "execution_count": 49,
   "outputs": [
    {
     "data": {
      "text/plain": "        Ship Mode       State     Sales\n0    Second Class    Kentucky  261.9600\n1    Second Class    Kentucky  731.9400\n3  Standard Class     Florida  957.5775\n7  Standard Class  California  907.1520\n9  Standard Class  California  114.9000",
      "text/html": "<div>\n<style scoped>\n    .dataframe tbody tr th:only-of-type {\n        vertical-align: middle;\n    }\n\n    .dataframe tbody tr th {\n        vertical-align: top;\n    }\n\n    .dataframe thead th {\n        text-align: right;\n    }\n</style>\n<table border=\"1\" class=\"dataframe\">\n  <thead>\n    <tr style=\"text-align: right;\">\n      <th></th>\n      <th>Ship Mode</th>\n      <th>State</th>\n      <th>Sales</th>\n    </tr>\n  </thead>\n  <tbody>\n    <tr>\n      <th>0</th>\n      <td>Second Class</td>\n      <td>Kentucky</td>\n      <td>261.9600</td>\n    </tr>\n    <tr>\n      <th>1</th>\n      <td>Second Class</td>\n      <td>Kentucky</td>\n      <td>731.9400</td>\n    </tr>\n    <tr>\n      <th>3</th>\n      <td>Standard Class</td>\n      <td>Florida</td>\n      <td>957.5775</td>\n    </tr>\n    <tr>\n      <th>7</th>\n      <td>Standard Class</td>\n      <td>California</td>\n      <td>907.1520</td>\n    </tr>\n    <tr>\n      <th>9</th>\n      <td>Standard Class</td>\n      <td>California</td>\n      <td>114.9000</td>\n    </tr>\n  </tbody>\n</table>\n</div>"
     },
     "execution_count": 49,
     "metadata": {},
     "output_type": "execute_result"
    }
   ],
   "source": [
    "df_subset[df_subset['Sales']>100]"
   ],
   "metadata": {
    "collapsed": false,
    "pycharm": {
     "name": "#%%\n"
    }
   }
  },
  {
   "cell_type": "code",
   "execution_count": 53,
   "outputs": [
    {
     "data": {
      "text/plain": "        Ship Mode       State     Sales\n0    Second Class    Kentucky  261.9600\n1    Second Class    Kentucky  731.9400\n3  Standard Class     Florida  957.5775\n7  Standard Class  California  907.1520\n9  Standard Class  California  114.9000",
      "text/html": "<div>\n<style scoped>\n    .dataframe tbody tr th:only-of-type {\n        vertical-align: middle;\n    }\n\n    .dataframe tbody tr th {\n        vertical-align: top;\n    }\n\n    .dataframe thead th {\n        text-align: right;\n    }\n</style>\n<table border=\"1\" class=\"dataframe\">\n  <thead>\n    <tr style=\"text-align: right;\">\n      <th></th>\n      <th>Ship Mode</th>\n      <th>State</th>\n      <th>Sales</th>\n    </tr>\n  </thead>\n  <tbody>\n    <tr>\n      <th>0</th>\n      <td>Second Class</td>\n      <td>Kentucky</td>\n      <td>261.9600</td>\n    </tr>\n    <tr>\n      <th>1</th>\n      <td>Second Class</td>\n      <td>Kentucky</td>\n      <td>731.9400</td>\n    </tr>\n    <tr>\n      <th>3</th>\n      <td>Standard Class</td>\n      <td>Florida</td>\n      <td>957.5775</td>\n    </tr>\n    <tr>\n      <th>7</th>\n      <td>Standard Class</td>\n      <td>California</td>\n      <td>907.1520</td>\n    </tr>\n    <tr>\n      <th>9</th>\n      <td>Standard Class</td>\n      <td>California</td>\n      <td>114.9000</td>\n    </tr>\n  </tbody>\n</table>\n</div>"
     },
     "execution_count": 53,
     "metadata": {},
     "output_type": "execute_result"
    }
   ],
   "source": [
    "df_subset[(df_subset['State'] != 'Colorado') & (df_subset['Sales']>100)]"
   ],
   "metadata": {
    "collapsed": false,
    "pycharm": {
     "name": "#%%\n"
    }
   }
  },
  {
   "cell_type": "code",
   "execution_count": null,
   "outputs": [],
   "source": [],
   "metadata": {
    "collapsed": false,
    "pycharm": {
     "name": "#%%\n"
    }
   }
  }
 ],
 "metadata": {
  "kernelspec": {
   "display_name": "Python 3",
   "language": "python",
   "name": "python3"
  },
  "language_info": {
   "codemirror_mode": {
    "name": "ipython",
    "version": 2
   },
   "file_extension": ".py",
   "mimetype": "text/x-python",
   "name": "python",
   "nbconvert_exporter": "python",
   "pygments_lexer": "ipython2",
   "version": "2.7.6"
  }
 },
 "nbformat": 4,
 "nbformat_minor": 0
}