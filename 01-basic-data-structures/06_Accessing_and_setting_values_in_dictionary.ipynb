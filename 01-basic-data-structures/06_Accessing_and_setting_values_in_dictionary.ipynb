{
 "cells": [
  {
   "cell_type": "code",
   "execution_count": 1,
   "metadata": {
    "collapsed": true
   },
   "outputs": [
    {
     "name": "stdout",
     "output_type": "stream",
     "text": [
      "{'key1': 'Value1'}\n"
     ]
    }
   ],
   "source": [
    "dict_1 = {}\n",
    "dict_1['key1'] = 'Value1'\n",
    "print(dict_1)\n"
   ]
  },
  {
   "cell_type": "code",
   "execution_count": 2,
   "outputs": [
    {
     "name": "stdout",
     "output_type": "stream",
     "text": [
      "{'subkey1': 'v1'}\n"
     ]
    }
   ],
   "source": [
    "dict_2 = {\"key1\": 1, \"key2\": [\"list_element1\", 34], \"key3\": \"value3\",\n",
    "          \"key4\": {\"subkey1\": \"v1\"}, \"key5\": 4.5}\n",
    "print(dict_2['key4'])\n"
   ],
   "metadata": {
    "collapsed": false,
    "pycharm": {
     "name": "#%%\n"
    }
   }
  },
  {
   "cell_type": "code",
   "execution_count": 3,
   "outputs": [
    {
     "name": "stdout",
     "output_type": "stream",
     "text": [
      "v1\n"
     ]
    }
   ],
   "source": [
    "print(dict_2['key4']['subkey1'])\n"
   ],
   "metadata": {
    "collapsed": false,
    "pycharm": {
     "name": "#%%\n"
    }
   }
  },
  {
   "cell_type": "code",
   "execution_count": 8,
   "outputs": [
    {
     "name": "stdout",
     "output_type": "stream",
     "text": [
      "1\n",
      "['list_element1', 34]\n",
      "value3\n",
      "{'subkey1': 'v1'}\n",
      "4.5\n"
     ]
    }
   ],
   "source": [
    "for value in dict_2.values():\n",
    "    print(f'{value}')"
   ],
   "metadata": {
    "collapsed": false,
    "pycharm": {
     "name": "#%%\n"
    }
   }
  },
  {
   "cell_type": "code",
   "execution_count": 7,
   "outputs": [
    {
     "name": "stdout",
     "output_type": "stream",
     "text": [
      "key1: 1\n",
      "key2: ['list_element1', 34]\n",
      "key3: value3\n",
      "key4: {'subkey1': 'v1'}\n",
      "key5: 4.5\n"
     ]
    }
   ],
   "source": [
    "for key in dict_2.keys():\n",
    "    print(f'{key}: {dict_2[key]}')"
   ],
   "metadata": {
    "collapsed": false,
    "pycharm": {
     "name": "#%%\n"
    }
   }
  },
  {
   "cell_type": "code",
   "execution_count": 9,
   "outputs": [
    {
     "name": "stdout",
     "output_type": "stream",
     "text": [
      "key1: 1\n",
      "key2: ['list_element1', 34]\n",
      "key3: value3\n",
      "key4: {'subkey1': 'v1'}\n",
      "key5: 4.5\n"
     ]
    }
   ],
   "source": [
    "for key, value in dict_2.items():\n",
    "    print(f'{key}: {value}')\n",
    "\n"
   ],
   "metadata": {
    "collapsed": false,
    "pycharm": {
     "name": "#%%\n"
    }
   }
  },
  {
   "cell_type": "code",
   "execution_count": null,
   "outputs": [],
   "source": [],
   "metadata": {
    "collapsed": false,
    "pycharm": {
     "name": "#%%\n"
    }
   }
  }
 ],
 "metadata": {
  "kernelspec": {
   "display_name": "Python 3",
   "language": "python",
   "name": "python3"
  },
  "language_info": {
   "codemirror_mode": {
    "name": "ipython",
    "version": 2
   },
   "file_extension": ".py",
   "mimetype": "text/x-python",
   "name": "python",
   "nbconvert_exporter": "python",
   "pygments_lexer": "ipython2",
   "version": "2.7.6"
  }
 },
 "nbformat": 4,
 "nbformat_minor": 0
}