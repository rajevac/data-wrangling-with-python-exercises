{
 "cells": [
  {
   "cell_type": "code",
   "execution_count": 1,
   "metadata": {
    "collapsed": true
   },
   "outputs": [
    {
     "data": {
      "text/plain": "1.0"
     },
     "execution_count": 1,
     "metadata": {},
     "output_type": "execute_result"
    }
   ],
   "source": [
    "import math\n",
    "\n",
    "def my_sine():\n",
    "    return lambda x: math.sin(math.radians(x))\n",
    "\n",
    "def my_cosine():\n",
    "    return lambda x: math.cos(math.radians(x))\n",
    "\n",
    "sine = my_sine()\n",
    "cosine = my_cosine()\n",
    "\n",
    "math.pow(sine(30), 2) + math.pow(cosine(30), 2)\n",
    "\n"
   ]
  },
  {
   "cell_type": "code",
   "execution_count": 2,
   "outputs": [
    {
     "name": "stdout",
     "output_type": "stream",
     "text": [
      "[('USA', 'Washington'), ('India', 'Delhi'), ('France', 'Paris'), ('UK', 'London')]\n"
     ]
    }
   ],
   "source": [
    "capitals = [(\"USA\", \"Washington\"), (\"India\", \"Delhi\"), (\"France\", \"Paris\"), (\"UK\", \"London\")]\n",
    "print(capitals)\n"
   ],
   "metadata": {
    "collapsed": false,
    "pycharm": {
     "name": "#%%\n"
    }
   }
  },
  {
   "cell_type": "code",
   "execution_count": 3,
   "outputs": [
    {
     "name": "stdout",
     "output_type": "stream",
     "text": [
      "[('India', 'Delhi'), ('UK', 'London'), ('France', 'Paris'), ('USA', 'Washington')]\n"
     ]
    }
   ],
   "source": [
    "capitals.sort(key=lambda item: item[1])\n",
    "print(capitals)"
   ],
   "metadata": {
    "collapsed": false,
    "pycharm": {
     "name": "#%%\n"
    }
   }
  },
  {
   "cell_type": "code",
   "execution_count": 4,
   "outputs": [
    {
     "data": {
      "text/plain": "True"
     },
     "execution_count": 4,
     "metadata": {},
     "output_type": "execute_result"
    }
   ],
   "source": [
    "list_of_words = [\"Hello\", \"there.\", \"How\", \"are\", \"you\", \"doing?\"]\n",
    "check_for = [\"How\", \"are\"]\n",
    "all(w in list_of_words for w in check_for)\n",
    "\n"
   ],
   "metadata": {
    "collapsed": false,
    "pycharm": {
     "name": "#%%\n"
    }
   }
  },
  {
   "cell_type": "code",
   "execution_count": null,
   "outputs": [],
   "source": [],
   "metadata": {
    "collapsed": false,
    "pycharm": {
     "name": "#%%\n"
    }
   }
  }
 ],
 "metadata": {
  "kernelspec": {
   "display_name": "Python 3",
   "language": "python",
   "name": "python3"
  },
  "language_info": {
   "codemirror_mode": {
    "name": "ipython",
    "version": 2
   },
   "file_extension": ".py",
   "mimetype": "text/x-python",
   "name": "python",
   "nbconvert_exporter": "python",
   "pygments_lexer": "ipython2",
   "version": "2.7.6"
  }
 },
 "nbformat": 4,
 "nbformat_minor": 0
}