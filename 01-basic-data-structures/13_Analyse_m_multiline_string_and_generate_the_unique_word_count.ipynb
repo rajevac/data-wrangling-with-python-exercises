{
 "cells": [
  {
   "cell_type": "code",
   "execution_count": 3,
   "metadata": {
    "collapsed": true
   },
   "outputs": [
    {
     "name": "stdout",
     "output_type": "stream",
     "text": [
      "It is a truth universally acknowledged, that a single man in possession of a good fortune, must be in want of a wife.\n",
      "However little known the feelings or views of such a man may be on his first entering a neighbourhood, this truth is so well fixed in the minds of the surrounding families, that he is considered the rightful property of some one or other of their daughters.\n",
      "\"My dear Mr. Bennet,\" said his lady to him one day, \"have you heard that Netherfield Park is let at last?\"\n",
      "Mr. Bennet replied that he had not.\n",
      "\"But it is,\" returned she; \"for Mrs. Long has just been here, and she told me all about it.\"\n",
      "Mr. Bennet made no answer.\n",
      "\"Do you not want to know who has taken it?\" cried his wife impatiently.\n",
      "\"You want to tell me, and I have no objection to hearing it.\"\n",
      "This was invitation enough.\n",
      "\"Why, my dear, you must know, Mrs. Long says that Netherfield is taken by a young man of large fortune from the north of England; that he came down on Monday in a chaise and four to see the place, and was so much delighted with it, that he agreed with Mr. Morris immediately; that he is to take possession before Michaelmas, and some of his servants are to be in the house by the end of next week.\"\n",
      "\"What is his name?\"\n",
      "\"Bingley.\"\n"
     ]
    }
   ],
   "source": [
    "text = 'It is a truth universally acknowledged, ' \\\n",
    "       'that a single man in possession of a good fortune, ' \\\n",
    "       'must be in want of a wife.\\nHowever little known the feelings or views of such a ' \\\n",
    "       'man may be on his first entering a neighbourhood, this truth is so well fixed in the ' \\\n",
    "       'minds of the surrounding families, that he is considered the rightful property of some ' \\\n",
    "       'one or other of their daughters.\\n\"My dear Mr. Bennet,\" said his lady to him one day, ' \\\n",
    "       '\"have you heard that Netherfield Park is let at last?\"\\nMr. Bennet replied that he had not.\\n' \\\n",
    "       '\"But it is,\" returned she; \"for Mrs. Long has just been here, and she told me all about it.\"\\n' \\\n",
    "       'Mr. Bennet made no answer.\\n\"Do you not want to know who has taken it?\" cried his wife impatiently.\\n' \\\n",
    "       '\"You want to tell me, and I have no objection to hearing it.\"\\nThis was invitation enough.\\n' \\\n",
    "       '\"Why, my dear, you must know, Mrs. Long says that Netherfield is taken by a young man of ' \\\n",
    "       'large fortune from the north of England; that he came down on Monday in a chaise and four to see ' \\\n",
    "       'the place, and was so much delighted with it, that he agreed with Mr. Morris immediately; that he ' \\\n",
    "       'is to take possession before Michaelmas, and some of his servants are to be in ' \\\n",
    "       'the house by the end of next week.\"\\n\"What is his name?\"\\n\"Bingley.\"'\n",
    "\n",
    "print(text)\n",
    "print(type(text))\n",
    "print(len(text))"
   ]
  },
  {
   "cell_type": "code",
   "execution_count": 5,
   "outputs": [
    {
     "name": "stdout",
     "output_type": "stream",
     "text": [
      "It is a truth universally acknowledged, that a single man in possession of a good fortune, must be in want of a wife. However little known the feelings or views of such a man may be on his first entering a neighbourhood, this truth is so well fixed in the minds of the surrounding families, that he is considered the rightful property of some one or other of their daughters. \"My dear Mr. Bennet,\" said his lady to him one day, \"have you heard that Netherfield Park is let at last?\" Mr. Bennet replied that he had not. \"But it is,\" returned she; \"for Mrs. Long has just been here, and she told me all about it.\" Mr. Bennet made no answer. \"Do you not want to know who has taken it?\" cried his wife impatiently. \"You want to tell me, and I have no objection to hearing it.\" This was invitation enough. \"Why, my dear, you must know, Mrs. Long says that Netherfield is taken by a young man of large fortune from the north of England; that he came down on Monday in a chaise and four to see the place, and was so much delighted with it, that he agreed with Mr. Morris immediately; that he is to take possession before Michaelmas, and some of his servants are to be in the house by the end of next week.\" \"What is his name?\" \"Bingley.\"\n"
     ]
    }
   ],
   "source": [
    "text = text.replace('\\n', ' ')\n",
    "print(text)\n"
   ],
   "metadata": {
    "collapsed": false,
    "pycharm": {
     "name": "#%%\n"
    }
   }
  },
  {
   "cell_type": "code",
   "execution_count": 9,
   "outputs": [
    {
     "name": "stdout",
     "output_type": "stream",
     "text": [
      "['It', 'is', 'a', 'truth', 'universally', 'acknowledged,', 'that', 'single', 'man', 'in', 'possession', 'of', 'good', 'fortune,', 'must', 'be', 'want', 'wife.', 'However', 'little', 'known', 'the', 'feelings', 'or', 'views', 'such', 'may', 'on', 'his', 'first', 'entering', 'neighbourhood,', 'this', 'so', 'well', 'fixed', 'minds', 'surrounding', 'families,', 'he', 'considered', 'rightful', 'property', 'some', 'one', 'other', 'their', 'daughters.', '\"My', 'dear', 'Mr.', 'Bennet,\"', 'said', 'lady', 'to', 'him', 'day,', '\"have', 'you', 'heard', 'Netherfield', 'Park', 'let', 'at', 'last?\"', 'Bennet', 'replied', 'had', 'not.', '\"But', 'it', 'is,\"', 'returned', 'she;', '\"for', 'Mrs.', 'Long', 'has', 'just', 'been', 'here,', 'and', 'she', 'told', 'me', 'all', 'about', 'it.\"', 'made', 'no', 'answer.', '\"Do', 'not', 'know', 'who', 'taken', 'it?\"', 'cried', 'wife', 'impatiently.', '\"You', 'tell', 'me,', 'I', 'have', 'objection', 'hearing', 'This', 'was', 'invitation', 'enough.', '\"Why,', 'my', 'dear,', 'know,', 'says', 'by', 'young', 'large', 'fortune', 'from', 'north', 'England;', 'came', 'down', 'Monday', 'chaise', 'four', 'see', 'place,', 'much', 'delighted', 'with', 'it,', 'agreed', 'Morris', 'immediately;', 'take', 'before', 'Michaelmas,', 'servants', 'are', 'house', 'end', 'next', 'week.\"', '\"What', 'name?\"', '\"Bingley.\"']\n",
      "{'It': 1, 'is': 7, 'a': 8, 'truth': 2, 'universally': 1, 'acknowledged,': 1, 'that': 8, 'single': 1, 'man': 3, 'in': 5, 'possession': 2, 'of': 10, 'good': 1, 'fortune,': 1, 'must': 2, 'be': 3, 'want': 3, 'wife.': 1, 'However': 1, 'little': 1, 'known': 1, 'the': 8, 'feelings': 1, 'or': 2, 'views': 1, 'such': 1, 'may': 1, 'on': 2, 'his': 5, 'first': 1, 'entering': 1, 'neighbourhood,': 1, 'this': 1, 'so': 2, 'well': 1, 'fixed': 1, 'minds': 1, 'surrounding': 1, 'families,': 1, 'he': 5, 'considered': 1, 'rightful': 1, 'property': 1, 'some': 2, 'one': 2, 'other': 1, 'their': 1, 'daughters.': 1, '\"My': 1, 'dear': 1, 'Mr.': 4, 'Bennet,\"': 1, 'said': 1, 'lady': 1, 'to': 7, 'him': 1, 'day,': 1, '\"have': 1, 'you': 3, 'heard': 1, 'Netherfield': 2, 'Park': 1, 'let': 1, 'at': 1, 'last?\"': 1, 'Bennet': 2, 'replied': 1, 'had': 1, 'not.': 1, '\"But': 1, 'it': 1, 'is,\"': 1, 'returned': 1, 'she;': 1, '\"for': 1, 'Mrs.': 2, 'Long': 2, 'has': 2, 'just': 1, 'been': 1, 'here,': 1, 'and': 5, 'she': 1, 'told': 1, 'me': 1, 'all': 1, 'about': 1, 'it.\"': 2, 'made': 1, 'no': 2, 'answer.': 1, '\"Do': 1, 'not': 1, 'know': 1, 'who': 1, 'taken': 2, 'it?\"': 1, 'cried': 1, 'wife': 1, 'impatiently.': 1, '\"You': 1, 'tell': 1, 'me,': 1, 'I': 1, 'have': 1, 'objection': 1, 'hearing': 1, 'This': 1, 'was': 2, 'invitation': 1, 'enough.': 1, '\"Why,': 1, 'my': 1, 'dear,': 1, 'know,': 1, 'says': 1, 'by': 2, 'young': 1, 'large': 1, 'fortune': 1, 'from': 1, 'north': 1, 'England;': 1, 'came': 1, 'down': 1, 'Monday': 1, 'chaise': 1, 'four': 1, 'see': 1, 'place,': 1, 'much': 1, 'delighted': 1, 'with': 2, 'it,': 1, 'agreed': 1, 'Morris': 1, 'immediately;': 1, 'take': 1, 'before': 1, 'Michaelmas,': 1, 'servants': 1, 'are': 1, 'house': 1, 'end': 1, 'next': 1, 'week.\"': 1, '\"What': 1, 'name?\"': 1, '\"Bingley.\"': 1}\n"
     ]
    }
   ],
   "source": [
    "text = text.split(' ')\n",
    "unique_words = []\n",
    "count_unique_words = {}\n",
    "for word in text:\n",
    "    if word not in unique_words:\n",
    "        unique_words.append(word)\n",
    "        count_unique_words[word] = 1\n",
    "    else:\n",
    "        count_unique_words[word] += 1\n",
    "\n",
    "print(unique_words)\n",
    "print(count_unique_words)\n",
    "\n"
   ],
   "metadata": {
    "collapsed": false,
    "pycharm": {
     "name": "#%%\n"
    }
   }
  },
  {
   "cell_type": "code",
   "execution_count": 11,
   "outputs": [
    {
     "name": "stdout",
     "output_type": "stream",
     "text": [
      "{'of': 10, 'a': 8, 'that': 8, 'the': 8, 'is': 7, 'to': 7, 'in': 5, 'his': 5, 'he': 5, 'and': 5, 'Mr.': 4, 'man': 3, 'be': 3, 'want': 3, 'you': 3, 'truth': 2, 'possession': 2, 'must': 2, 'or': 2, 'on': 2, 'so': 2, 'some': 2, 'one': 2, 'Netherfield': 2, 'Bennet': 2, 'Mrs.': 2, 'Long': 2, 'has': 2, 'it.\"': 2, 'no': 2, 'taken': 2, 'was': 2, 'by': 2, 'with': 2, 'It': 1, 'universally': 1, 'acknowledged,': 1, 'single': 1, 'good': 1, 'fortune,': 1, 'wife.': 1, 'However': 1, 'little': 1, 'known': 1, 'feelings': 1, 'views': 1, 'such': 1, 'may': 1, 'first': 1, 'entering': 1, 'neighbourhood,': 1, 'this': 1, 'well': 1, 'fixed': 1, 'minds': 1, 'surrounding': 1, 'families,': 1, 'considered': 1, 'rightful': 1, 'property': 1, 'other': 1, 'their': 1, 'daughters.': 1, '\"My': 1, 'dear': 1, 'Bennet,\"': 1, 'said': 1, 'lady': 1, 'him': 1, 'day,': 1, '\"have': 1, 'heard': 1, 'Park': 1, 'let': 1, 'at': 1, 'last?\"': 1, 'replied': 1, 'had': 1, 'not.': 1, '\"But': 1, 'it': 1, 'is,\"': 1, 'returned': 1, 'she;': 1, '\"for': 1, 'just': 1, 'been': 1, 'here,': 1, 'she': 1, 'told': 1, 'me': 1, 'all': 1, 'about': 1, 'made': 1, 'answer.': 1, '\"Do': 1, 'not': 1, 'know': 1, 'who': 1, 'it?\"': 1, 'cried': 1, 'wife': 1, 'impatiently.': 1, '\"You': 1, 'tell': 1, 'me,': 1, 'I': 1, 'have': 1, 'objection': 1, 'hearing': 1, 'This': 1, 'invitation': 1, 'enough.': 1, '\"Why,': 1, 'my': 1, 'dear,': 1, 'know,': 1, 'says': 1, 'young': 1, 'large': 1, 'fortune': 1, 'from': 1, 'north': 1, 'England;': 1, 'came': 1, 'down': 1, 'Monday': 1, 'chaise': 1, 'four': 1, 'see': 1, 'place,': 1, 'much': 1, 'delighted': 1, 'it,': 1, 'agreed': 1, 'Morris': 1, 'immediately;': 1, 'take': 1, 'before': 1, 'Michaelmas,': 1, 'servants': 1, 'are': 1, 'house': 1, 'end': 1, 'next': 1, 'week.\"': 1, '\"What': 1, 'name?\"': 1, '\"Bingley.\"': 1}\n"
     ]
    }
   ],
   "source": [
    "top_unique_words = {k: v for k, v in sorted(count_unique_words.items(), key=lambda item: item[1], reverse=True)}\n",
    "print(top_unique_words)"
   ],
   "metadata": {
    "collapsed": false,
    "pycharm": {
     "name": "#%%\n"
    }
   }
  },
  {
   "cell_type": "code",
   "execution_count": 12,
   "outputs": [
    {
     "name": "stdout",
     "output_type": "stream",
     "text": [
      "of\n",
      "a\n",
      "that\n",
      "the\n",
      "is\n",
      "to\n",
      "in\n",
      "his\n",
      "he\n",
      "and\n"
     ]
    }
   ],
   "source": [
    "i = 0\n",
    "for k in top_unique_words.keys():\n",
    "    print(k)\n",
    "    i += 1\n",
    "    if i == 10:\n",
    "        break\n",
    "\n"
   ],
   "metadata": {
    "collapsed": false,
    "pycharm": {
     "name": "#%%\n"
    }
   }
  },
  {
   "cell_type": "code",
   "execution_count": null,
   "outputs": [],
   "source": [],
   "metadata": {
    "collapsed": false,
    "pycharm": {
     "name": "#%%\n"
    }
   }
  }
 ],
 "metadata": {
  "kernelspec": {
   "display_name": "Python 3",
   "language": "python",
   "name": "python3"
  },
  "language_info": {
   "codemirror_mode": {
    "name": "ipython",
    "version": 2
   },
   "file_extension": ".py",
   "mimetype": "text/x-python",
   "name": "python",
   "nbconvert_exporter": "python",
   "pygments_lexer": "ipython2",
   "version": "2.7.6"
  }
 },
 "nbformat": 4,
 "nbformat_minor": 0
}