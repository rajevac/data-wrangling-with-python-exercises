{
 "cells": [
  {
   "cell_type": "code",
   "execution_count": 5,
   "metadata": {
    "collapsed": true
   },
   "outputs": [
    {
     "name": "stdout",
     "output_type": "stream",
     "text": [
      "[27, 13, 24, 29, 8, 18, 0, 23, 17, 19, 6, 6, 28, 6, 16, 27, 24, 3, 24, 13, 24, 6, 26, 24, 3, 5, 4, 10, 17, 18, 7, 25, 11, 21, 0, 27, 4, 23, 24, 19, 24, 8, 30, 15, 3, 6, 16, 0, 30, 15, 15, 22, 28, 30, 2, 20, 1, 15, 10, 29, 12, 29, 26, 19, 4, 23, 29, 30, 17, 10, 6, 16, 6, 24, 9, 21, 0, 10, 19, 28, 15, 19, 16, 30, 27, 15, 26, 4, 2, 6, 23, 11, 17, 5, 20, 27, 30, 30, 24, 28]\n",
      "[0, 1, 2, 3, 4, 5, 6, 7, 8, 9, 10, 11, 12, 13, 15, 16, 17, 18, 19, 20, 21, 22, 23, 24, 25, 26, 27, 28, 29, 30]\n"
     ]
    }
   ],
   "source": [
    "import random\n",
    "list_1 = [random.randint(0, 30) for x in range(0, 100)]\n",
    "list_2 = list(dict.fromkeys(list_1).keys()) # creates unique value list\n",
    "list_2.sort()\n",
    "print(list_1)\n",
    "print(list_2)"
   ]
  },
  {
   "cell_type": "code",
   "execution_count": 6,
   "outputs": [
    {
     "name": "stdout",
     "output_type": "stream",
     "text": [
      "[23, 28, 3, 15, 0, 0, 19, 22, 0, 30, 4, 18, 24, 23, 7, 9, 19, 28, 20, 21, 12, 7, 10, 12, 14, 0, 28, 17, 1, 27, 13, 21, 18, 14, 6, 7, 13, 0, 1, 11, 6, 1, 20, 28, 14, 7, 8, 23, 22, 16, 5, 4, 0, 29, 4, 14, 25, 23, 30, 30, 14, 10, 27, 27, 8, 27, 10, 15, 24, 16, 29, 10, 28, 10, 21, 20, 22, 23, 20, 22, 12, 26, 8, 3, 2, 17, 24, 10, 11, 3, 9, 7, 7, 14, 15, 25, 18, 2, 18, 14]\n",
      "[0, 1, 2, 3, 4, 5, 6, 7, 8, 9, 10, 11, 12, 13, 14, 15, 16, 17, 18, 19, 20, 21, 22, 23, 24, 25, 26, 27, 28, 29, 30]\n"
     ]
    }
   ],
   "source": [
    "import random\n",
    "list_1 = [random.randint(0, 30) for x in range(0, 100)]\n",
    "list_2 = list(set(list_1)) # creates unique value list\n",
    "list_2.sort()\n",
    "print(list_1)\n",
    "print(list_2)\n"
   ],
   "metadata": {
    "collapsed": false,
    "pycharm": {
     "name": "#%%\n"
    }
   }
  },
  {
   "cell_type": "code",
   "execution_count": null,
   "outputs": [],
   "source": [],
   "metadata": {
    "collapsed": false,
    "pycharm": {
     "name": "#%%\n"
    }
   }
  }
 ],
 "metadata": {
  "kernelspec": {
   "display_name": "Python 3",
   "language": "python",
   "name": "python3"
  },
  "language_info": {
   "codemirror_mode": {
    "name": "ipython",
    "version": 2
   },
   "file_extension": ".py",
   "mimetype": "text/x-python",
   "name": "python",
   "nbconvert_exporter": "python",
   "pygments_lexer": "ipython2",
   "version": "2.7.6"
  }
 },
 "nbformat": 4,
 "nbformat_minor": 0
}