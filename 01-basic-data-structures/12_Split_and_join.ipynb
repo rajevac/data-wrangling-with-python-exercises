{
 "cells": [
  {
   "cell_type": "code",
   "execution_count": 2,
   "metadata": {
    "collapsed": true
   },
   "outputs": [
    {
     "name": "stdout",
     "output_type": "stream",
     "text": [
      "['Name', ' Age', ' Sex', ' Address']\n",
      "['Hello', 'World!', 'I', 'am', 'learning', 'data', 'wrangling']\n"
     ]
    }
   ],
   "source": [
    "str_1 = \"Name, Age, Sex, Address\"\n",
    "str_2 = \"Hello World! I am learning data wrangling\"\n",
    "list_1 = str_1.split(\",\")\n",
    "list_2 = str_2.split(' ')\n",
    "print(list_1)\n",
    "print(list_2)"
   ]
  },
  {
   "cell_type": "code",
   "execution_count": 3,
   "outputs": [
    {
     "name": "stdout",
     "output_type": "stream",
     "text": [
      "Hello World! I am learning data wrangling\n"
     ]
    }
   ],
   "source": [
    "str_3 = ' '.join(list_2)\n",
    "print(str_3)\n"
   ],
   "metadata": {
    "collapsed": false,
    "pycharm": {
     "name": "#%%\n"
    }
   }
  },
  {
   "cell_type": "code",
   "execution_count": 5,
   "outputs": [
    {
     "name": "stdout",
     "output_type": "stream",
     "text": [
      "Name |  Age |  Sex |  Address\n"
     ]
    }
   ],
   "source": [
    "str_4 = ' | '.join(list_1)\n",
    "print(str_4)"
   ],
   "metadata": {
    "collapsed": false,
    "pycharm": {
     "name": "#%%\n"
    }
   }
  },
  {
   "cell_type": "code",
   "execution_count": null,
   "outputs": [],
   "source": [],
   "metadata": {
    "collapsed": false,
    "pycharm": {
     "name": "#%%\n"
    }
   }
  }
 ],
 "metadata": {
  "kernelspec": {
   "display_name": "Python 3",
   "language": "python",
   "name": "python3"
  },
  "language_info": {
   "codemirror_mode": {
    "name": "ipython",
    "version": 2
   },
   "file_extension": ".py",
   "mimetype": "text/x-python",
   "name": "python",
   "nbconvert_exporter": "python",
   "pygments_lexer": "ipython2",
   "version": "2.7.6"
  }
 },
 "nbformat": 4,
 "nbformat_minor": 0
}